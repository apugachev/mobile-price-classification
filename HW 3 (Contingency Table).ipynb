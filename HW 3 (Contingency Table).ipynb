{
 "cells": [
  {
   "cell_type": "code",
   "execution_count": 282,
   "metadata": {},
   "outputs": [
    {
     "name": "stdout",
     "output_type": "stream",
     "text": [
      "400\n"
     ]
    },
    {
     "data": {
      "text/html": [
       "<div>\n",
       "<style scoped>\n",
       "    .dataframe tbody tr th:only-of-type {\n",
       "        vertical-align: middle;\n",
       "    }\n",
       "\n",
       "    .dataframe tbody tr th {\n",
       "        vertical-align: top;\n",
       "    }\n",
       "\n",
       "    .dataframe thead th {\n",
       "        text-align: right;\n",
       "    }\n",
       "</style>\n",
       "<table border=\"1\" class=\"dataframe\">\n",
       "  <thead>\n",
       "    <tr style=\"text-align: right;\">\n",
       "      <th></th>\n",
       "      <th>battery_power</th>\n",
       "      <th>clock_speed</th>\n",
       "      <th>four_g</th>\n",
       "      <th>int_memory</th>\n",
       "      <th>n_cores</th>\n",
       "      <th>pc</th>\n",
       "      <th>ram</th>\n",
       "      <th>talk_time</th>\n",
       "      <th>touch_screen</th>\n",
       "      <th>wifi</th>\n",
       "      <th>price_range</th>\n",
       "    </tr>\n",
       "  </thead>\n",
       "  <tbody>\n",
       "    <tr>\n",
       "      <th>0</th>\n",
       "      <td>1142</td>\n",
       "      <td>1.4</td>\n",
       "      <td>0</td>\n",
       "      <td>6</td>\n",
       "      <td>8</td>\n",
       "      <td>8</td>\n",
       "      <td>663</td>\n",
       "      <td>5</td>\n",
       "      <td>1</td>\n",
       "      <td>1</td>\n",
       "      <td>0</td>\n",
       "    </tr>\n",
       "    <tr>\n",
       "      <th>1</th>\n",
       "      <td>728</td>\n",
       "      <td>1.7</td>\n",
       "      <td>1</td>\n",
       "      <td>5</td>\n",
       "      <td>2</td>\n",
       "      <td>20</td>\n",
       "      <td>834</td>\n",
       "      <td>5</td>\n",
       "      <td>1</td>\n",
       "      <td>0</td>\n",
       "      <td>0</td>\n",
       "    </tr>\n",
       "    <tr>\n",
       "      <th>2</th>\n",
       "      <td>1868</td>\n",
       "      <td>0.5</td>\n",
       "      <td>1</td>\n",
       "      <td>40</td>\n",
       "      <td>8</td>\n",
       "      <td>17</td>\n",
       "      <td>298</td>\n",
       "      <td>17</td>\n",
       "      <td>1</td>\n",
       "      <td>0</td>\n",
       "      <td>0</td>\n",
       "    </tr>\n",
       "    <tr>\n",
       "      <th>3</th>\n",
       "      <td>890</td>\n",
       "      <td>2.2</td>\n",
       "      <td>0</td>\n",
       "      <td>44</td>\n",
       "      <td>8</td>\n",
       "      <td>13</td>\n",
       "      <td>751</td>\n",
       "      <td>3</td>\n",
       "      <td>0</td>\n",
       "      <td>0</td>\n",
       "      <td>0</td>\n",
       "    </tr>\n",
       "    <tr>\n",
       "      <th>4</th>\n",
       "      <td>1433</td>\n",
       "      <td>1.6</td>\n",
       "      <td>0</td>\n",
       "      <td>4</td>\n",
       "      <td>8</td>\n",
       "      <td>11</td>\n",
       "      <td>258</td>\n",
       "      <td>4</td>\n",
       "      <td>1</td>\n",
       "      <td>1</td>\n",
       "      <td>0</td>\n",
       "    </tr>\n",
       "  </tbody>\n",
       "</table>\n",
       "</div>"
      ],
      "text/plain": [
       "   battery_power  clock_speed  four_g  int_memory  n_cores  pc  ram  \\\n",
       "0           1142          1.4       0           6        8   8  663   \n",
       "1            728          1.7       1           5        2  20  834   \n",
       "2           1868          0.5       1          40        8  17  298   \n",
       "3            890          2.2       0          44        8  13  751   \n",
       "4           1433          1.6       0           4        8  11  258   \n",
       "\n",
       "   talk_time  touch_screen  wifi  price_range  \n",
       "0          5             1     1            0  \n",
       "1          5             1     0            0  \n",
       "2         17             1     0            0  \n",
       "3          3             0     0            0  \n",
       "4          4             1     1            0  "
      ]
     },
     "execution_count": 282,
     "metadata": {},
     "output_type": "execute_result"
    }
   ],
   "source": [
    "import pandas as pd\n",
    "from matplotlib import pyplot as plt\n",
    "import numpy as np\n",
    "from copy import deepcopy\n",
    "\n",
    "df = pd.read_csv('data/mobile.csv', index_col=0)\n",
    "print(len(df))\n",
    "df.head()"
   ]
  },
  {
   "cell_type": "code",
   "execution_count": 283,
   "metadata": {},
   "outputs": [
    {
     "data": {
      "text/html": [
       "<div>\n",
       "<style scoped>\n",
       "    .dataframe tbody tr th:only-of-type {\n",
       "        vertical-align: middle;\n",
       "    }\n",
       "\n",
       "    .dataframe tbody tr th {\n",
       "        vertical-align: top;\n",
       "    }\n",
       "\n",
       "    .dataframe thead th {\n",
       "        text-align: right;\n",
       "    }\n",
       "</style>\n",
       "<table border=\"1\" class=\"dataframe\">\n",
       "  <thead>\n",
       "    <tr style=\"text-align: right;\">\n",
       "      <th></th>\n",
       "      <th>battery_power</th>\n",
       "      <th>int_memory</th>\n",
       "      <th>ram</th>\n",
       "    </tr>\n",
       "  </thead>\n",
       "  <tbody>\n",
       "    <tr>\n",
       "      <th>0</th>\n",
       "      <td>1142</td>\n",
       "      <td>6</td>\n",
       "      <td>663</td>\n",
       "    </tr>\n",
       "    <tr>\n",
       "      <th>1</th>\n",
       "      <td>728</td>\n",
       "      <td>5</td>\n",
       "      <td>834</td>\n",
       "    </tr>\n",
       "    <tr>\n",
       "      <th>2</th>\n",
       "      <td>1868</td>\n",
       "      <td>40</td>\n",
       "      <td>298</td>\n",
       "    </tr>\n",
       "    <tr>\n",
       "      <th>3</th>\n",
       "      <td>890</td>\n",
       "      <td>44</td>\n",
       "      <td>751</td>\n",
       "    </tr>\n",
       "    <tr>\n",
       "      <th>4</th>\n",
       "      <td>1433</td>\n",
       "      <td>4</td>\n",
       "      <td>258</td>\n",
       "    </tr>\n",
       "  </tbody>\n",
       "</table>\n",
       "</div>"
      ],
      "text/plain": [
       "   battery_power  int_memory  ram\n",
       "0           1142           6  663\n",
       "1            728           5  834\n",
       "2           1868          40  298\n",
       "3            890          44  751\n",
       "4           1433           4  258"
      ]
     },
     "execution_count": 283,
     "metadata": {},
     "output_type": "execute_result"
    }
   ],
   "source": [
    "cols = ['battery_power', 'int_memory', 'ram']\n",
    "\n",
    "df = df[cols]\n",
    "df.head()"
   ]
  },
  {
   "cell_type": "code",
   "execution_count": 284,
   "metadata": {
    "scrolled": true
   },
   "outputs": [
    {
     "data": {
      "image/png": "[encoded data removed]",
      "text/plain": [
       "<Figure size 864x576 with 1 Axes>"
      ]
     },
     "metadata": {},
     "output_type": "display_data"
    },
    {
     "data": {
      "image/png": "[encoded data removed]",
      "text/plain": [
       "<Figure size 864x576 with 1 Axes>"
      ]
     },
     "metadata": {},
     "output_type": "display_data"
    },
    {
     "data": {
      "image/png": "[encoded data removed]",
      "text/plain": [
       "<Figure size 864x576 with 1 Axes>"
      ]
     },
     "metadata": {},
     "output_type": "display_data"
    }
   ],
   "source": [
    "for col in cols:\n",
    "    plt.figure(figsize=(12,8))\n",
    "    plt.title(col, size=15)\n",
    "    plt.hist(df[col], bins=50)\n",
    "    plt.show()\n"
   ]
  },
  {
   "cell_type": "code",
   "execution_count": 285,
   "metadata": {
    "scrolled": true
   },
   "outputs": [
    {
     "data": {
      "text/plain": [
       "([502, 950, 1300, 1600, 1997],\n",
       " [2, 19, 32, 55, 64],\n",
       " [258, 1000, 2400, 3200, 3978])"
      ]
     },
     "execution_count": 285,
     "metadata": {},
     "output_type": "execute_result"
    }
   ],
   "source": [
    "bat_pivots = [df['battery_power'].min(), 950, 1300, 1600, df['battery_power'].max()]\n",
    "int_pivots = [df['int_memory'].min(), 19, 32, 55, df['int_memory'].max()]\n",
    "ram_pivots = [df['ram'].min(), 1000, 2400, 3200, df['ram'].max()]\n",
    "\n",
    "bat_pivots, int_pivots, ram_pivots"
   ]
  },
  {
   "cell_type": "code",
   "execution_count": 292,
   "metadata": {},
   "outputs": [],
   "source": [
    "def generate_cont_freq(pivots_list, initial_df, col_name):\n",
    "    \"\"\"\n",
    "    pivots_list - лист пивотов\n",
    "    initial_df - исходный датафрейм\n",
    "    col_name - колонка (фича) которую категоризуем\n",
    "    \n",
    "    return:\n",
    "    \n",
    "    relative frequency table\n",
    "    conditional frequency table\n",
    "    \n",
    "    \"\"\"\n",
    "    \n",
    "    categories_inds = np.zeros(len(initial_df), dtype=int)\n",
    "    ln = len(categories_inds)\n",
    "\n",
    "    for i in range(len(bat_pivots) - 1):\n",
    "        new_df = initial_df[initial_df[col_name] >= pivots_list[i]] # находим нужные элементы попадающие в промежуток\n",
    "        new_df = new_df[new_df[col_name] <= pivots_list[i+1]]\n",
    "        categories_inds[new_df.index.tolist()] = i # присваиваем тип категории соответствующим индексам\n",
    "        \n",
    "    zer = [0] * 5\n",
    "    df_cats = pd.DataFrame({'Partitions': ['Part 1', 'Part 2', 'Part 3', 'Part 4', 'Total'], \n",
    "                               'Cat 1': zer, 'Cat 2': zer, 'Cat 3': zer, 'Cat 4': zer, 'Total': zer})\n",
    "    df_cats = df_cats.set_index('Partitions')\n",
    "\n",
    "    #заполняем табличку\n",
    "    \n",
    "    for i in range(4):\n",
    "        cur_slice = np.arange(i * 100, i*100 + 100)\n",
    "        for j in cur_slice:\n",
    "            df_cats.iloc[i, categories_inds[j]] += 1\n",
    "\n",
    "    df_cats['Total'] = [np.sum(df_cats.iloc[i,0:4]) for i in range(5)]\n",
    "    colsum = df_cats.sum(axis=0).tolist()\n",
    "\n",
    "    for i in range(5):\n",
    "        df_cats.iloc[4,i] = colsum[i]\n",
    "        \n",
    "    # нормализация:    \n",
    "    \n",
    "    df_cats = df_cats / ln\n",
    "    df_cats_freq = deepcopy(df_cats)\n",
    "    \n",
    "    for i in range(4):\n",
    "        for j in range(4):\n",
    "            df_cats_freq.iloc[i,j] = df_cats_freq.iloc[i,j] / df_cats_freq.iloc[-1,j]\n",
    "    \n",
    "    df_cats_freq = df_cats_freq.iloc[:-1,:-1]\n",
    "    return df_cats, df_cats_freq"
   ]
  },
  {
   "cell_type": "code",
   "execution_count": 309,
   "metadata": {},
   "outputs": [],
   "source": [
    "def generate_quetlet(rel_freq_table):\n",
    "    \"\"\"\n",
    "    rel_freq_table - relative frequency table\n",
    "    \"\"\"\n",
    "    \n",
    "    quet_table = deepcopy(rel_freq_table)\n",
    "    ln = len(rel_freq_table)\n",
    "    \n",
    "    for i in range(ln-1):\n",
    "        for j in range(ln-1):\n",
    "            quet_table.iloc[i,j] = cont.iloc[i,-1] * cont.iloc[-1,j]\n",
    "            \n",
    "    quet_table = rel_freq_table.divide(quet_table)\n",
    "    quet_table = quet_table.subtract(1)\n",
    "\n",
    "    return quet_table.iloc[:-1,:-1]"
   ]
  },
  {
   "cell_type": "code",
   "execution_count": 327,
   "metadata": {},
   "outputs": [],
   "source": [
    "def get_chi2(rel_freq_table, quet_table):\n",
    "    chi_table = rel_freq_table.iloc[:-1,:-1].multiply(quet_table)\n",
    "    return chi_table, chi_table.values.sum()"
   ]
  },
  {
   "cell_type": "code",
   "execution_count": 335,
   "metadata": {},
   "outputs": [
    {
     "name": "stdout",
     "output_type": "stream",
     "text": [
      "Conditional frequency table:\n",
      "               Cat 1     Cat 2     Cat 3     Cat 4\n",
      "Partitions                                        \n",
      "Part 1      0.330827  0.277778  0.140845  0.198113\n",
      "Part 2      0.255639  0.277778  0.295775  0.188679\n",
      "Part 3      0.278195  0.211111  0.225352  0.264151\n",
      "Part 4      0.135338  0.233333  0.338028  0.349057 \n",
      "\n",
      "Quetlet relative index table:\n",
      "               Cat 1     Cat 2     Cat 3     Cat 4\n",
      "Partitions                                        \n",
      "Part 1      0.323308  0.111111 -0.436620 -0.207547\n",
      "Part 2      0.022556  0.111111  0.183099 -0.245283\n",
      "Part 3      0.112782 -0.155556 -0.098592  0.056604\n",
      "Part 4     -0.458647 -0.066667  0.352113  0.396226 \n",
      "\n",
      "Chi-squared matrix:\n",
      "               Cat 1     Cat 2     Cat 3     Cat 4\n",
      "Partitions                                        \n",
      "Part 1      0.035564  0.006944 -0.010915 -0.010896\n",
      "Part 2      0.001917  0.006944  0.009613 -0.012264\n",
      "Part 3      0.010432 -0.007389 -0.003944  0.003962\n",
      "Part 4     -0.020639 -0.003500  0.021127  0.036651 \n",
      "\n",
      "Chi-square value:\n",
      "0.06360754796904564\n"
     ]
    }
   ],
   "source": [
    "bat_rel_freq, bat_cond_freq = generate_cont_freq(bat_pivots, df, 'battery_power')\n",
    "bat_quet = generate_quetlet(bat_rel_freq)\n",
    "bat_chi2_table, bat_chi2_value = get_chi2(bat_rel_freq, bat_quet)\n",
    "print('Conditional frequency table:')\n",
    "print(bat_cond_freq, '\\n')\n",
    "print('Quetlet relative index table:')\n",
    "print(bat_quet, '\\n')\n",
    "print('Chi-squared matrix:')\n",
    "print(bat_chi2_table, '\\n')\n",
    "print('Chi-square value:')\n",
    "print(bat_chi2_value)"
   ]
  },
  {
   "cell_type": "code",
   "execution_count": 337,
   "metadata": {
    "scrolled": false
   },
   "outputs": [
    {
     "name": "stdout",
     "output_type": "stream",
     "text": [
      "Conditional frequency table:\n",
      "               Cat 1     Cat 2     Cat 3     Cat 4\n",
      "Partitions                                        \n",
      "Part 1      0.240310  0.307692  0.226027  0.255319\n",
      "Part 2      0.263566  0.217949  0.253425  0.255319\n",
      "Part 3      0.279070  0.282051  0.232877  0.170213\n",
      "Part 4      0.217054  0.192308  0.287671  0.319149 \n",
      "\n",
      "Quetlet relative index table:\n",
      "               Cat 1     Cat 2     Cat 3     Cat 4\n",
      "Partitions                                        \n",
      "Part 1     -0.067669  0.066667  0.859155 -0.547170\n",
      "Part 2      0.022556 -0.244444  1.084507 -0.547170\n",
      "Part 3      0.082707 -0.022222  0.915493 -0.698113\n",
      "Part 4     -0.157895 -0.333333  1.366197 -0.433962 \n",
      "\n",
      "Chi-squared matrix:\n",
      "               Cat 1     Cat 2     Cat 3     Cat 4\n",
      "Partitions                                        \n",
      "Part 1     -0.005244  0.004000  0.070880 -0.016415\n",
      "Part 2      0.001917 -0.010389  0.100317 -0.016415\n",
      "Part 3      0.007444 -0.001222  0.077817 -0.013962\n",
      "Part 4     -0.011053 -0.012500  0.143451 -0.016274 \n",
      "\n",
      "Chi-square value:\n",
      "0.3023515496598703\n"
     ]
    }
   ],
   "source": [
    "int_rel_freq, int_cond_freq = generate_cont_freq(int_pivots, df, 'int_memory')\n",
    "int_quet = generate_quetlet(int_rel_freq)\n",
    "int_chi2_table, int_chi2_value = get_chi2(int_rel_freq, int_quet)\n",
    "\n",
    "print('Conditional frequency table:')\n",
    "print(int_cond_freq, '\\n')\n",
    "print('Quetlet relative index table:')\n",
    "print(int_quet, '\\n')\n",
    "print('Chi-squared matrix:')\n",
    "print(int_chi2_table, '\\n')\n",
    "print('Chi-square value:')\n",
    "print(int_chi2_value)"
   ]
  },
  {
   "cell_type": "code",
   "execution_count": 339,
   "metadata": {},
   "outputs": [
    {
     "name": "stdout",
     "output_type": "stream",
     "text": [
      "Conditional frequency table:\n",
      "               Cat 1     Cat 2     Cat 3     Cat 4\n",
      "Partitions                                        \n",
      "Part 1      0.896104  0.205298  0.000000  0.000000\n",
      "Part 2      0.103896  0.576159  0.053191  0.000000\n",
      "Part 3      0.000000  0.211921  0.617021  0.128205\n",
      "Part 4      0.000000  0.006623  0.329787  0.871795 \n",
      "\n",
      "Quetlet relative index table:\n",
      "               Cat 1     Cat 2     Cat 3     Cat 4\n",
      "Partitions                                        \n",
      "Part 1      1.075188  0.377778 -1.000000 -1.000000\n",
      "Part 2     -0.759398  2.866667 -0.718310 -1.000000\n",
      "Part 3     -1.000000  0.422222  2.267606 -0.622642\n",
      "Part 4     -1.000000 -0.955556  0.746479  1.566038 \n",
      "\n",
      "Chi-squared matrix:\n",
      "               Cat 1     Cat 2     Cat 3     Cat 4\n",
      "Partitions                                        \n",
      "Part 1      0.185470  0.029278 -0.000000 -0.000000\n",
      "Part 2     -0.015188  0.623500 -0.008979 -0.000000\n",
      "Part 3     -0.000000  0.033778  0.328803 -0.015566\n",
      "Part 4     -0.000000 -0.002389  0.057852  0.266226 \n",
      "\n",
      "Chi-square value:\n",
      "1.4827850552504034\n"
     ]
    }
   ],
   "source": [
    "ram_rel_freq, ram_cond_freq = generate_cont_freq(ram_pivots, df, 'ram')\n",
    "ram_quet = generate_quetlet(ram_rel_freq)\n",
    "ram_chi2_table, ram_chi2_value = get_chi2(ram_rel_freq, ram_quet)\n",
    "\n",
    "print('Conditional frequency table:')\n",
    "print(ram_cond_freq, '\\n')\n",
    "print('Quetlet relative index table:')\n",
    "print(ram_quet, '\\n')\n",
    "print('Chi-squared matrix:')\n",
    "print(ram_chi2_table, '\\n')\n",
    "print('Chi-square value:')\n",
    "print(ram_chi2_value)"
   ]
  },
  {
   "cell_type": "code",
   "execution_count": null,
   "metadata": {},
   "outputs": [],
   "source": []
  }
 ],
 "metadata": {
  "kernelspec": {
   "display_name": "Python 3",
   "language": "python",
   "name": "python3"
  },
  "language_info": {
   "codemirror_mode": {
    "name": "ipython",
    "version": 3
   },
   "file_extension": ".py",
   "mimetype": "text/x-python",
   "name": "python",
   "nbconvert_exporter": "python",
   "pygments_lexer": "ipython3",
   "version": "3.6.5"
  }
 },
 "nbformat": 4,
 "nbformat_minor": 2
}
