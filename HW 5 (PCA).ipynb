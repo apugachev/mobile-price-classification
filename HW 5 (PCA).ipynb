{
 "cells": [
  {
   "cell_type": "code",
   "execution_count": 10,
   "metadata": {},
   "outputs": [
    {
     "name": "stdout",
     "output_type": "stream",
     "text": [
      "400\n"
     ]
    },
    {
     "data": {
      "text/html": [
       "<div>\n",
       "<style scoped>\n",
       "    .dataframe tbody tr th:only-of-type {\n",
       "        vertical-align: middle;\n",
       "    }\n",
       "\n",
       "    .dataframe tbody tr th {\n",
       "        vertical-align: top;\n",
       "    }\n",
       "\n",
       "    .dataframe thead th {\n",
       "        text-align: right;\n",
       "    }\n",
       "</style>\n",
       "<table border=\"1\" class=\"dataframe\">\n",
       "  <thead>\n",
       "    <tr style=\"text-align: right;\">\n",
       "      <th></th>\n",
       "      <th>battery_power</th>\n",
       "      <th>clock_speed</th>\n",
       "      <th>four_g</th>\n",
       "      <th>int_memory</th>\n",
       "      <th>n_cores</th>\n",
       "      <th>pc</th>\n",
       "      <th>ram</th>\n",
       "      <th>talk_time</th>\n",
       "      <th>touch_screen</th>\n",
       "      <th>wifi</th>\n",
       "      <th>price_range</th>\n",
       "    </tr>\n",
       "  </thead>\n",
       "  <tbody>\n",
       "    <tr>\n",
       "      <th>0</th>\n",
       "      <td>1142</td>\n",
       "      <td>1.4</td>\n",
       "      <td>0</td>\n",
       "      <td>6</td>\n",
       "      <td>8</td>\n",
       "      <td>8</td>\n",
       "      <td>663</td>\n",
       "      <td>5</td>\n",
       "      <td>1</td>\n",
       "      <td>1</td>\n",
       "      <td>0</td>\n",
       "    </tr>\n",
       "    <tr>\n",
       "      <th>1</th>\n",
       "      <td>728</td>\n",
       "      <td>1.7</td>\n",
       "      <td>1</td>\n",
       "      <td>5</td>\n",
       "      <td>2</td>\n",
       "      <td>20</td>\n",
       "      <td>834</td>\n",
       "      <td>5</td>\n",
       "      <td>1</td>\n",
       "      <td>0</td>\n",
       "      <td>0</td>\n",
       "    </tr>\n",
       "    <tr>\n",
       "      <th>2</th>\n",
       "      <td>1868</td>\n",
       "      <td>0.5</td>\n",
       "      <td>1</td>\n",
       "      <td>40</td>\n",
       "      <td>8</td>\n",
       "      <td>17</td>\n",
       "      <td>298</td>\n",
       "      <td>17</td>\n",
       "      <td>1</td>\n",
       "      <td>0</td>\n",
       "      <td>0</td>\n",
       "    </tr>\n",
       "    <tr>\n",
       "      <th>3</th>\n",
       "      <td>890</td>\n",
       "      <td>2.2</td>\n",
       "      <td>0</td>\n",
       "      <td>44</td>\n",
       "      <td>8</td>\n",
       "      <td>13</td>\n",
       "      <td>751</td>\n",
       "      <td>3</td>\n",
       "      <td>0</td>\n",
       "      <td>0</td>\n",
       "      <td>0</td>\n",
       "    </tr>\n",
       "    <tr>\n",
       "      <th>4</th>\n",
       "      <td>1433</td>\n",
       "      <td>1.6</td>\n",
       "      <td>0</td>\n",
       "      <td>4</td>\n",
       "      <td>8</td>\n",
       "      <td>11</td>\n",
       "      <td>258</td>\n",
       "      <td>4</td>\n",
       "      <td>1</td>\n",
       "      <td>1</td>\n",
       "      <td>0</td>\n",
       "    </tr>\n",
       "  </tbody>\n",
       "</table>\n",
       "</div>"
      ],
      "text/plain": [
       "   battery_power  clock_speed  four_g  int_memory  n_cores  pc  ram  \\\n",
       "0           1142          1.4       0           6        8   8  663   \n",
       "1            728          1.7       1           5        2  20  834   \n",
       "2           1868          0.5       1          40        8  17  298   \n",
       "3            890          2.2       0          44        8  13  751   \n",
       "4           1433          1.6       0           4        8  11  258   \n",
       "\n",
       "   talk_time  touch_screen  wifi  price_range  \n",
       "0          5             1     1            0  \n",
       "1          5             1     0            0  \n",
       "2         17             1     0            0  \n",
       "3          3             0     0            0  \n",
       "4          4             1     1            0  "
      ]
     },
     "execution_count": 10,
     "metadata": {},
     "output_type": "execute_result"
    }
   ],
   "source": [
    "import pandas as pd\n",
    "from matplotlib import pyplot as plt\n",
    "import numpy as np\n",
    "from copy import deepcopy\n",
    "import math\n",
    "\n",
    "df = pd.read_csv('data/mobile.csv', index_col=0)\n",
    "print(len(df))\n",
    "df.head()"
   ]
  },
  {
   "cell_type": "code",
   "execution_count": 11,
   "metadata": {},
   "outputs": [
    {
     "data": {
      "text/html": [
       "<div>\n",
       "<style scoped>\n",
       "    .dataframe tbody tr th:only-of-type {\n",
       "        vertical-align: middle;\n",
       "    }\n",
       "\n",
       "    .dataframe tbody tr th {\n",
       "        vertical-align: top;\n",
       "    }\n",
       "\n",
       "    .dataframe thead th {\n",
       "        text-align: right;\n",
       "    }\n",
       "</style>\n",
       "<table border=\"1\" class=\"dataframe\">\n",
       "  <thead>\n",
       "    <tr style=\"text-align: right;\">\n",
       "      <th></th>\n",
       "      <th>battery_power</th>\n",
       "      <th>clock_speed</th>\n",
       "      <th>talk_time</th>\n",
       "      <th>pc</th>\n",
       "      <th>ram</th>\n",
       "    </tr>\n",
       "  </thead>\n",
       "  <tbody>\n",
       "    <tr>\n",
       "      <th>0</th>\n",
       "      <td>1142</td>\n",
       "      <td>1.4</td>\n",
       "      <td>5</td>\n",
       "      <td>8</td>\n",
       "      <td>663</td>\n",
       "    </tr>\n",
       "    <tr>\n",
       "      <th>1</th>\n",
       "      <td>728</td>\n",
       "      <td>1.7</td>\n",
       "      <td>5</td>\n",
       "      <td>20</td>\n",
       "      <td>834</td>\n",
       "    </tr>\n",
       "    <tr>\n",
       "      <th>2</th>\n",
       "      <td>1868</td>\n",
       "      <td>0.5</td>\n",
       "      <td>17</td>\n",
       "      <td>17</td>\n",
       "      <td>298</td>\n",
       "    </tr>\n",
       "    <tr>\n",
       "      <th>3</th>\n",
       "      <td>890</td>\n",
       "      <td>2.2</td>\n",
       "      <td>3</td>\n",
       "      <td>13</td>\n",
       "      <td>751</td>\n",
       "    </tr>\n",
       "    <tr>\n",
       "      <th>4</th>\n",
       "      <td>1433</td>\n",
       "      <td>1.6</td>\n",
       "      <td>4</td>\n",
       "      <td>11</td>\n",
       "      <td>258</td>\n",
       "    </tr>\n",
       "  </tbody>\n",
       "</table>\n",
       "</div>"
      ],
      "text/plain": [
       "   battery_power  clock_speed  talk_time  pc  ram\n",
       "0           1142          1.4          5   8  663\n",
       "1            728          1.7          5  20  834\n",
       "2           1868          0.5         17  17  298\n",
       "3            890          2.2          3  13  751\n",
       "4           1433          1.6          4  11  258"
      ]
     },
     "execution_count": 11,
     "metadata": {},
     "output_type": "execute_result"
    }
   ],
   "source": [
    "cols = ['battery_power', 'clock_speed', 'talk_time', 'pc', 'ram']\n",
    "\n",
    "df_sub = df[cols]\n",
    "df_sub.head()"
   ]
  },
  {
   "cell_type": "markdown",
   "metadata": {},
   "source": [
    "## ranking standartization"
   ]
  },
  {
   "cell_type": "code",
   "execution_count": 12,
   "metadata": {},
   "outputs": [
    {
     "data": {
      "text/plain": [
       "battery_power    1495.0\n",
       "clock_speed         2.5\n",
       "talk_time          18.0\n",
       "pc                 20.0\n",
       "ram              3720.0\n",
       "dtype: float64"
      ]
     },
     "execution_count": 12,
     "metadata": {},
     "output_type": "execute_result"
    }
   ],
   "source": [
    "diff = df_sub.max() - df_sub.min()\n",
    "diff"
   ]
  },
  {
   "cell_type": "code",
   "execution_count": 40,
   "metadata": {},
   "outputs": [
    {
     "data": {
      "text/html": [
       "<div>\n",
       "<style scoped>\n",
       "    .dataframe tbody tr th:only-of-type {\n",
       "        vertical-align: middle;\n",
       "    }\n",
       "\n",
       "    .dataframe tbody tr th {\n",
       "        vertical-align: top;\n",
       "    }\n",
       "\n",
       "    .dataframe thead th {\n",
       "        text-align: right;\n",
       "    }\n",
       "</style>\n",
       "<table border=\"1\" class=\"dataframe\">\n",
       "  <thead>\n",
       "    <tr style=\"text-align: right;\">\n",
       "      <th></th>\n",
       "      <th>battery_power</th>\n",
       "      <th>clock_speed</th>\n",
       "      <th>talk_time</th>\n",
       "      <th>pc</th>\n",
       "      <th>ram</th>\n",
       "    </tr>\n",
       "  </thead>\n",
       "  <tbody>\n",
       "    <tr>\n",
       "      <th>0</th>\n",
       "      <td>0.428094</td>\n",
       "      <td>0.36</td>\n",
       "      <td>0.166667</td>\n",
       "      <td>0.40</td>\n",
       "      <td>0.108871</td>\n",
       "    </tr>\n",
       "    <tr>\n",
       "      <th>1</th>\n",
       "      <td>0.151171</td>\n",
       "      <td>0.48</td>\n",
       "      <td>0.166667</td>\n",
       "      <td>1.00</td>\n",
       "      <td>0.154839</td>\n",
       "    </tr>\n",
       "    <tr>\n",
       "      <th>2</th>\n",
       "      <td>0.913712</td>\n",
       "      <td>0.00</td>\n",
       "      <td>0.833333</td>\n",
       "      <td>0.85</td>\n",
       "      <td>0.010753</td>\n",
       "    </tr>\n",
       "    <tr>\n",
       "      <th>3</th>\n",
       "      <td>0.259532</td>\n",
       "      <td>0.68</td>\n",
       "      <td>0.055556</td>\n",
       "      <td>0.65</td>\n",
       "      <td>0.132527</td>\n",
       "    </tr>\n",
       "    <tr>\n",
       "      <th>4</th>\n",
       "      <td>0.622742</td>\n",
       "      <td>0.44</td>\n",
       "      <td>0.111111</td>\n",
       "      <td>0.55</td>\n",
       "      <td>0.000000</td>\n",
       "    </tr>\n",
       "  </tbody>\n",
       "</table>\n",
       "</div>"
      ],
      "text/plain": [
       "   battery_power  clock_speed  talk_time    pc       ram\n",
       "0       0.428094         0.36   0.166667  0.40  0.108871\n",
       "1       0.151171         0.48   0.166667  1.00  0.154839\n",
       "2       0.913712         0.00   0.833333  0.85  0.010753\n",
       "3       0.259532         0.68   0.055556  0.65  0.132527\n",
       "4       0.622742         0.44   0.111111  0.55  0.000000"
      ]
     },
     "execution_count": 40,
     "metadata": {},
     "output_type": "execute_result"
    }
   ],
   "source": [
    "df_norm = (df_sub - df_sub.min()).divide(diff)\n",
    "df_norm.head()"
   ]
  },
  {
   "cell_type": "code",
   "execution_count": 41,
   "metadata": {},
   "outputs": [
    {
     "data": {
      "text/plain": [
       "649.7023812593757"
      ]
     },
     "execution_count": 41,
     "metadata": {},
     "output_type": "execute_result"
    }
   ],
   "source": [
    "data_scatter = df_norm.multiply(df_norm).values.sum()\n",
    "data_scatter"
   ]
  },
  {
   "cell_type": "code",
   "execution_count": 42,
   "metadata": {},
   "outputs": [
    {
     "data": {
      "text/plain": [
       "array([22.35103307,  6.72682019,  6.22889028,  5.84861932,  5.64607564])"
      ]
     },
     "execution_count": 42,
     "metadata": {},
     "output_type": "execute_result"
    }
   ],
   "source": [
    "z, mu, c = np.linalg.svd(df_norm)\n",
    "mu"
   ]
  },
  {
   "cell_type": "code",
   "execution_count": 43,
   "metadata": {},
   "outputs": [
    {
     "data": {
      "text/plain": [
       "((400, 400), (5,), (5, 5))"
      ]
     },
     "execution_count": 43,
     "metadata": {},
     "output_type": "execute_result"
    }
   ],
   "source": [
    "z.shape, mu.shape, c.shape"
   ]
  },
  {
   "cell_type": "markdown",
   "metadata": {},
   "source": [
    "## Contribution of principal components:"
   ]
  },
  {
   "cell_type": "code",
   "execution_count": 17,
   "metadata": {},
   "outputs": [
    {
     "data": {
      "text/plain": [
       "array([499.56867923,  45.25010981,  38.79907411,  34.20634796,\n",
       "        31.87817014])"
      ]
     },
     "execution_count": 17,
     "metadata": {},
     "output_type": "execute_result"
    }
   ],
   "source": [
    "np.multiply(mu.T, mu)"
   ]
  },
  {
   "cell_type": "markdown",
   "metadata": {},
   "source": [
    "### in percent:"
   ]
  },
  {
   "cell_type": "code",
   "execution_count": 18,
   "metadata": {},
   "outputs": [
    {
     "data": {
      "text/plain": [
       "array([76.89192677,  6.96474434,  5.97182267,  5.26492575,  4.90658047])"
      ]
     },
     "execution_count": 18,
     "metadata": {},
     "output_type": "execute_result"
    }
   ],
   "source": [
    "np.multiply(mu.T, mu) / data_scatter * 100"
   ]
  },
  {
   "cell_type": "markdown",
   "metadata": {},
   "source": [
    "## hidden factor"
   ]
  },
  {
   "cell_type": "code",
   "execution_count": 58,
   "metadata": {},
   "outputs": [],
   "source": [
    "X = [[41, 66, 90], [57, 56, 60], [61, 72, 79], [69, 73, 72], [63, 52, 88], [62, 83, 80]]"
   ]
  },
  {
   "cell_type": "code",
   "execution_count": 64,
   "metadata": {},
   "outputs": [
    {
     "data": {
      "text/plain": [
       "array([[-0.49479686, -0.56668802, -0.6588177 ],\n",
       "       [ 0.58948477,  0.33815562, -0.73359286],\n",
       "       [ 0.63850119, -0.75134244,  0.16673562]])"
      ]
     },
     "execution_count": 64,
     "metadata": {},
     "output_type": "execute_result"
    }
   ],
   "source": [
    "a1, a2, a3 = np.linalg.svd(X)\n",
    "a3"
   ]
  },
  {
   "cell_type": "code",
   "execution_count": 62,
   "metadata": {},
   "outputs": [
    {
     "data": {
      "text/plain": [
       "array([22.35103307,  6.72682019,  6.22889028,  5.84861932,  5.64607564])"
      ]
     },
     "execution_count": 62,
     "metadata": {},
     "output_type": "execute_result"
    }
   ],
   "source": [
    "z, mu, c = np.linalg.svd(df_norm)\n",
    "mu"
   ]
  },
  {
   "cell_type": "code",
   "execution_count": 55,
   "metadata": {},
   "outputs": [
    {
     "data": {
      "text/plain": [
       "array([ 0.45251698, -0.02746173,  0.42660185, -0.68034365, -0.38680436])"
      ]
     },
     "execution_count": 55,
     "metadata": {},
     "output_type": "execute_result"
    }
   ],
   "source": [
    "z = -z\n",
    "c = -c\n",
    "c[:,0]"
   ]
  },
  {
   "cell_type": "markdown",
   "metadata": {},
   "source": [
    "$$\n",
    "Z = (0.453 * \\text{batter_power} + 0.376 * \\text{clock_speed} + 0.464 * \\text{talk_time} + 0.477 * \\text{pc} + 0.460 * \\text{ram}) * \\alpha\n",
    "$$\n",
    "\n",
    "$$\n",
    "100 = (0.453 * 100 + 0.376 * 100 + 0.464 * 100 + 0.477 * 100 + 0.460 * 100) * \\alpha \n",
    "$$\n",
    "\n",
    "$$ \n",
    "\\alpha = 0.448\n",
    "$$\n"
   ]
  },
  {
   "cell_type": "markdown",
   "metadata": {},
   "source": [
    "# Visualization"
   ]
  },
  {
   "cell_type": "markdown",
   "metadata": {},
   "source": [
    "### range normalization"
   ]
  },
  {
   "cell_type": "code",
   "execution_count": 256,
   "metadata": {},
   "outputs": [
    {
     "data": {
      "text/html": [
       "<div>\n",
       "<style scoped>\n",
       "    .dataframe tbody tr th:only-of-type {\n",
       "        vertical-align: middle;\n",
       "    }\n",
       "\n",
       "    .dataframe tbody tr th {\n",
       "        vertical-align: top;\n",
       "    }\n",
       "\n",
       "    .dataframe thead th {\n",
       "        text-align: right;\n",
       "    }\n",
       "</style>\n",
       "<table border=\"1\" class=\"dataframe\">\n",
       "  <thead>\n",
       "    <tr style=\"text-align: right;\">\n",
       "      <th></th>\n",
       "      <th>battery_power</th>\n",
       "      <th>clock_speed</th>\n",
       "      <th>talk_time</th>\n",
       "      <th>pc</th>\n",
       "      <th>ram</th>\n",
       "    </tr>\n",
       "  </thead>\n",
       "  <tbody>\n",
       "    <tr>\n",
       "      <th>0</th>\n",
       "      <td>1142</td>\n",
       "      <td>1.400</td>\n",
       "      <td>5</td>\n",
       "      <td>8</td>\n",
       "      <td>663</td>\n",
       "    </tr>\n",
       "    <tr>\n",
       "      <th>1</th>\n",
       "      <td>728</td>\n",
       "      <td>1.700</td>\n",
       "      <td>5</td>\n",
       "      <td>20</td>\n",
       "      <td>834</td>\n",
       "    </tr>\n",
       "    <tr>\n",
       "      <th>2</th>\n",
       "      <td>1868</td>\n",
       "      <td>0.500</td>\n",
       "      <td>17</td>\n",
       "      <td>17</td>\n",
       "      <td>298</td>\n",
       "    </tr>\n",
       "    <tr>\n",
       "      <th>3</th>\n",
       "      <td>890</td>\n",
       "      <td>2.200</td>\n",
       "      <td>3</td>\n",
       "      <td>13</td>\n",
       "      <td>751</td>\n",
       "    </tr>\n",
       "    <tr>\n",
       "      <th>4</th>\n",
       "      <td>1433</td>\n",
       "      <td>1.600</td>\n",
       "      <td>4</td>\n",
       "      <td>11</td>\n",
       "      <td>258</td>\n",
       "    </tr>\n",
       "  </tbody>\n",
       "</table>\n",
       "</div>"
      ],
      "text/plain": [
       "   battery_power  clock_speed  talk_time  pc  ram\n",
       "0           1142        1.400          5   8  663\n",
       "1            728        1.700          5  20  834\n",
       "2           1868        0.500         17  17  298\n",
       "3            890        2.200          3  13  751\n",
       "4           1433        1.600          4  11  258"
      ]
     },
     "execution_count": 256,
     "metadata": {},
     "output_type": "execute_result"
    }
   ],
   "source": [
    "from matplotlib import pyplot as plt\n",
    "\n",
    "cols = ['battery_power', 'clock_speed', 'talk_time', 'pc', 'ram']\n",
    "\n",
    "df_sub = df[cols]\n",
    "df_sub.head()"
   ]
  },
  {
   "cell_type": "code",
   "execution_count": 211,
   "metadata": {},
   "outputs": [],
   "source": [
    "pd.options.display.float_format = '{:,.3f}'.format"
   ]
  },
  {
   "cell_type": "code",
   "execution_count": 212,
   "metadata": {},
   "outputs": [
    {
     "data": {
      "text/html": [
       "<div>\n",
       "<style scoped>\n",
       "    .dataframe tbody tr th:only-of-type {\n",
       "        vertical-align: middle;\n",
       "    }\n",
       "\n",
       "    .dataframe tbody tr th {\n",
       "        vertical-align: top;\n",
       "    }\n",
       "\n",
       "    .dataframe thead th {\n",
       "        text-align: right;\n",
       "    }\n",
       "</style>\n",
       "<table border=\"1\" class=\"dataframe\">\n",
       "  <thead>\n",
       "    <tr style=\"text-align: right;\">\n",
       "      <th></th>\n",
       "      <th>battery_power</th>\n",
       "      <th>clock_speed</th>\n",
       "      <th>talk_time</th>\n",
       "      <th>pc</th>\n",
       "      <th>ram</th>\n",
       "    </tr>\n",
       "  </thead>\n",
       "  <tbody>\n",
       "    <tr>\n",
       "      <th>0</th>\n",
       "      <td>-0.056</td>\n",
       "      <td>-0.045</td>\n",
       "      <td>-0.334</td>\n",
       "      <td>-0.112</td>\n",
       "      <td>-0.390</td>\n",
       "    </tr>\n",
       "    <tr>\n",
       "      <th>1</th>\n",
       "      <td>-0.333</td>\n",
       "      <td>0.075</td>\n",
       "      <td>-0.334</td>\n",
       "      <td>0.488</td>\n",
       "      <td>-0.344</td>\n",
       "    </tr>\n",
       "    <tr>\n",
       "      <th>2</th>\n",
       "      <td>0.429</td>\n",
       "      <td>-0.405</td>\n",
       "      <td>0.333</td>\n",
       "      <td>0.338</td>\n",
       "      <td>-0.488</td>\n",
       "    </tr>\n",
       "    <tr>\n",
       "      <th>3</th>\n",
       "      <td>-0.225</td>\n",
       "      <td>0.275</td>\n",
       "      <td>-0.445</td>\n",
       "      <td>0.138</td>\n",
       "      <td>-0.367</td>\n",
       "    </tr>\n",
       "    <tr>\n",
       "      <th>4</th>\n",
       "      <td>0.138</td>\n",
       "      <td>0.035</td>\n",
       "      <td>-0.389</td>\n",
       "      <td>0.038</td>\n",
       "      <td>-0.499</td>\n",
       "    </tr>\n",
       "  </tbody>\n",
       "</table>\n",
       "</div>"
      ],
      "text/plain": [
       "   battery_power  clock_speed  talk_time     pc    ram\n",
       "0         -0.056       -0.045     -0.334 -0.112 -0.390\n",
       "1         -0.333        0.075     -0.334  0.488 -0.344\n",
       "2          0.429       -0.405      0.333  0.338 -0.488\n",
       "3         -0.225        0.275     -0.445  0.138 -0.367\n",
       "4          0.138        0.035     -0.389  0.038 -0.499"
      ]
     },
     "execution_count": 212,
     "metadata": {},
     "output_type": "execute_result"
    }
   ],
   "source": [
    "means = df_sub.mean()\n",
    "diff = df_sub.max() - df_sub.min()\n",
    "df_range = (df_sub - means) / diff\n",
    "df_range.head()"
   ]
  },
  {
   "cell_type": "code",
   "execution_count": 213,
   "metadata": {},
   "outputs": [
    {
     "data": {
      "text/plain": [
       "array([6.72838661, 6.2656009 , 6.03521067, 5.76435648, 5.60959808])"
      ]
     },
     "execution_count": 213,
     "metadata": {},
     "output_type": "execute_result"
    }
   ],
   "source": [
    "z, mu, c = np.linalg.svd(df_range)\n",
    "mu"
   ]
  },
  {
   "cell_type": "code",
   "execution_count": 214,
   "metadata": {},
   "outputs": [],
   "source": [
    "z1 = z[:,0] * np.sqrt(mu[0])\n",
    "z2 = z[:,1] * np.sqrt(mu[1])"
   ]
  },
  {
   "cell_type": "code",
   "execution_count": 215,
   "metadata": {},
   "outputs": [
    {
     "name": "stdout",
     "output_type": "stream",
     "text": [
      "contribution to the variance: 45.53180918692004\n"
     ]
    }
   ],
   "source": [
    "p=100*(mu[0] ** 2 + mu[1] ** 2) / df_range.multiply(df_range).values.sum()\n",
    "print('contribution to the variance:', p)"
   ]
  },
  {
   "cell_type": "code",
   "execution_count": 216,
   "metadata": {},
   "outputs": [
    {
     "data": {
      "text/plain": [
       "<matplotlib.legend.Legend at 0x1a2bc90e10>"
      ]
     },
     "execution_count": 216,
     "metadata": {},
     "output_type": "execute_result"
    },
    {
     "data": {
      "image/png": "[encoded data removed]",
      "text/plain": [
       "<Figure size 1080x720 with 1 Axes>"
      ]
     },
     "metadata": {},
     "output_type": "display_data"
    }
   ],
   "source": [
    "fig = plt.figure(figsize=(15,10))\n",
    "colormap = ['red', 'black', 'limegreen', 'dodgerblue']\n",
    "labels = ['low cost', 'medium cost', 'high cost', 'very high cost']\n",
    "for i, (color, label) in enumerate(zip(colormap, labels)):\n",
    "    plt.scatter(z1[i *100: i * 100+99], z2[i *100: i * 100+99], c=color, s=75, label=label)\n",
    "plt.legend(fontsize=15)"
   ]
  },
  {
   "cell_type": "code",
   "execution_count": 182,
   "metadata": {},
   "outputs": [],
   "source": [
    "from matplotlib.backends.backend_pdf import PdfPages\n",
    "\n",
    "pp = PdfPages('pca_range_norm.pdf', keep_empty=False)\n",
    "pp.savefig(fig)\n",
    "pp.close()"
   ]
  },
  {
   "cell_type": "markdown",
   "metadata": {},
   "source": [
    "### z-scoring"
   ]
  },
  {
   "cell_type": "code",
   "execution_count": 257,
   "metadata": {},
   "outputs": [
    {
     "data": {
      "text/html": [
       "<div>\n",
       "<style scoped>\n",
       "    .dataframe tbody tr th:only-of-type {\n",
       "        vertical-align: middle;\n",
       "    }\n",
       "\n",
       "    .dataframe tbody tr th {\n",
       "        vertical-align: top;\n",
       "    }\n",
       "\n",
       "    .dataframe thead th {\n",
       "        text-align: right;\n",
       "    }\n",
       "</style>\n",
       "<table border=\"1\" class=\"dataframe\">\n",
       "  <thead>\n",
       "    <tr style=\"text-align: right;\">\n",
       "      <th></th>\n",
       "      <th>battery_power</th>\n",
       "      <th>clock_speed</th>\n",
       "      <th>talk_time</th>\n",
       "      <th>pc</th>\n",
       "      <th>ram</th>\n",
       "    </tr>\n",
       "  </thead>\n",
       "  <tbody>\n",
       "    <tr>\n",
       "      <th>0</th>\n",
       "      <td>-0.188</td>\n",
       "      <td>-0.136</td>\n",
       "      <td>-1.071</td>\n",
       "      <td>-0.376</td>\n",
       "      <td>-1.371</td>\n",
       "    </tr>\n",
       "    <tr>\n",
       "      <th>1</th>\n",
       "      <td>-1.109</td>\n",
       "      <td>0.229</td>\n",
       "      <td>-1.071</td>\n",
       "      <td>1.638</td>\n",
       "      <td>-1.210</td>\n",
       "    </tr>\n",
       "    <tr>\n",
       "      <th>2</th>\n",
       "      <td>1.427</td>\n",
       "      <td>-1.231</td>\n",
       "      <td>1.068</td>\n",
       "      <td>1.135</td>\n",
       "      <td>-1.716</td>\n",
       "    </tr>\n",
       "    <tr>\n",
       "      <th>3</th>\n",
       "      <td>-0.748</td>\n",
       "      <td>0.838</td>\n",
       "      <td>-1.427</td>\n",
       "      <td>0.464</td>\n",
       "      <td>-1.288</td>\n",
       "    </tr>\n",
       "    <tr>\n",
       "      <th>4</th>\n",
       "      <td>0.460</td>\n",
       "      <td>0.108</td>\n",
       "      <td>-1.249</td>\n",
       "      <td>0.128</td>\n",
       "      <td>-1.754</td>\n",
       "    </tr>\n",
       "  </tbody>\n",
       "</table>\n",
       "</div>"
      ],
      "text/plain": [
       "   battery_power  clock_speed  talk_time     pc    ram\n",
       "0         -0.188       -0.136     -1.071 -0.376 -1.371\n",
       "1         -1.109        0.229     -1.071  1.638 -1.210\n",
       "2          1.427       -1.231      1.068  1.135 -1.716\n",
       "3         -0.748        0.838     -1.427  0.464 -1.288\n",
       "4          0.460        0.108     -1.249  0.128 -1.754"
      ]
     },
     "execution_count": 257,
     "metadata": {},
     "output_type": "execute_result"
    }
   ],
   "source": [
    "means = df_sub.mean()\n",
    "std = df_sub.std()\n",
    "df_z_scor = (df_sub - means) / std\n",
    "df_z_scor.head()"
   ]
  },
  {
   "cell_type": "code",
   "execution_count": 272,
   "metadata": {},
   "outputs": [
    {
     "data": {
      "text/plain": [
       "array([20.9806387 , 20.83717792, 19.9700579 , 19.07917192, 18.91578183])"
      ]
     },
     "execution_count": 272,
     "metadata": {},
     "output_type": "execute_result"
    }
   ],
   "source": [
    "z, mu, c = np.linalg.svd(df_z_scor)\n",
    "mu"
   ]
  },
  {
   "cell_type": "code",
   "execution_count": 259,
   "metadata": {},
   "outputs": [],
   "source": [
    "z1 = z[:,0] * np.sqrt(mu[0]) # надо умножать на корень из синг значения\n",
    "z2 = z[:,1] * np.sqrt(mu[1])"
   ]
  },
  {
   "cell_type": "code",
   "execution_count": 260,
   "metadata": {},
   "outputs": [
    {
     "name": "stdout",
     "output_type": "stream",
     "text": [
      "contribution to the vatiance: 43.82833001870234\n"
     ]
    }
   ],
   "source": [
    "p=100*(mu[0] ** 2 + mu[1] ** 2) / df_z_scor.multiply(df_z_scor).values.sum()\n",
    "print('contribution to the vatiance:', p)"
   ]
  },
  {
   "cell_type": "code",
   "execution_count": 261,
   "metadata": {},
   "outputs": [
    {
     "data": {
      "text/plain": [
       "<matplotlib.legend.Legend at 0x1a2cafb668>"
      ]
     },
     "execution_count": 261,
     "metadata": {},
     "output_type": "execute_result"
    },
    {
     "data": {
      "image/png": "[encoded data removed]",
      "text/plain": [
       "<Figure size 1080x720 with 1 Axes>"
      ]
     },
     "metadata": {},
     "output_type": "display_data"
    }
   ],
   "source": [
    "fig = plt.figure(figsize=(15,10))\n",
    "colormap = ['red', 'black', 'limegreen', 'dodgerblue']\n",
    "labels = ['low cost', 'medium cost', 'high cost', 'very high cost']\n",
    "for i, (color, label) in enumerate(zip(colormap, labels)):\n",
    "    plt.scatter(z1[i *100: i * 100+99], z2[i *100: i * 100+99], c=color, s=75, label=label)\n",
    "plt.legend(fontsize=15)"
   ]
  },
  {
   "cell_type": "code",
   "execution_count": 194,
   "metadata": {},
   "outputs": [],
   "source": [
    "from matplotlib.backends.backend_pdf import PdfPages\n",
    "\n",
    "pp = PdfPages('pca_z_scoring.pdf', keep_empty=False)\n",
    "pp.savefig(fig)\n",
    "pp.close()"
   ]
  },
  {
   "cell_type": "markdown",
   "metadata": {},
   "source": [
    "## conventional pca"
   ]
  },
  {
   "cell_type": "code",
   "execution_count": 262,
   "metadata": {},
   "outputs": [
    {
     "data": {
      "text/html": [
       "<div>\n",
       "<style scoped>\n",
       "    .dataframe tbody tr th:only-of-type {\n",
       "        vertical-align: middle;\n",
       "    }\n",
       "\n",
       "    .dataframe tbody tr th {\n",
       "        vertical-align: top;\n",
       "    }\n",
       "\n",
       "    .dataframe thead th {\n",
       "        text-align: right;\n",
       "    }\n",
       "</style>\n",
       "<table border=\"1\" class=\"dataframe\">\n",
       "  <thead>\n",
       "    <tr style=\"text-align: right;\">\n",
       "      <th></th>\n",
       "      <th>battery_power</th>\n",
       "      <th>clock_speed</th>\n",
       "      <th>talk_time</th>\n",
       "      <th>pc</th>\n",
       "      <th>ram</th>\n",
       "    </tr>\n",
       "  </thead>\n",
       "  <tbody>\n",
       "    <tr>\n",
       "      <th>0</th>\n",
       "      <td>1142</td>\n",
       "      <td>1.400</td>\n",
       "      <td>5</td>\n",
       "      <td>8</td>\n",
       "      <td>663</td>\n",
       "    </tr>\n",
       "    <tr>\n",
       "      <th>1</th>\n",
       "      <td>728</td>\n",
       "      <td>1.700</td>\n",
       "      <td>5</td>\n",
       "      <td>20</td>\n",
       "      <td>834</td>\n",
       "    </tr>\n",
       "    <tr>\n",
       "      <th>2</th>\n",
       "      <td>1868</td>\n",
       "      <td>0.500</td>\n",
       "      <td>17</td>\n",
       "      <td>17</td>\n",
       "      <td>298</td>\n",
       "    </tr>\n",
       "    <tr>\n",
       "      <th>3</th>\n",
       "      <td>890</td>\n",
       "      <td>2.200</td>\n",
       "      <td>3</td>\n",
       "      <td>13</td>\n",
       "      <td>751</td>\n",
       "    </tr>\n",
       "    <tr>\n",
       "      <th>4</th>\n",
       "      <td>1433</td>\n",
       "      <td>1.600</td>\n",
       "      <td>4</td>\n",
       "      <td>11</td>\n",
       "      <td>258</td>\n",
       "    </tr>\n",
       "  </tbody>\n",
       "</table>\n",
       "</div>"
      ],
      "text/plain": [
       "   battery_power  clock_speed  talk_time  pc  ram\n",
       "0           1142        1.400          5   8  663\n",
       "1            728        1.700          5  20  834\n",
       "2           1868        0.500         17  17  298\n",
       "3            890        2.200          3  13  751\n",
       "4           1433        1.600          4  11  258"
      ]
     },
     "execution_count": 262,
     "metadata": {},
     "output_type": "execute_result"
    }
   ],
   "source": [
    "from matplotlib import pyplot as plt\n",
    "\n",
    "cols = ['battery_power', 'clock_speed', 'talk_time', 'pc', 'ram']\n",
    "\n",
    "df_sub = df[cols]\n",
    "df_sub.head()"
   ]
  },
  {
   "cell_type": "code",
   "execution_count": 263,
   "metadata": {},
   "outputs": [
    {
     "data": {
      "text/html": [
       "<div>\n",
       "<style scoped>\n",
       "    .dataframe tbody tr th:only-of-type {\n",
       "        vertical-align: middle;\n",
       "    }\n",
       "\n",
       "    .dataframe tbody tr th {\n",
       "        vertical-align: top;\n",
       "    }\n",
       "\n",
       "    .dataframe thead th {\n",
       "        text-align: right;\n",
       "    }\n",
       "</style>\n",
       "<table border=\"1\" class=\"dataframe\">\n",
       "  <thead>\n",
       "    <tr style=\"text-align: right;\">\n",
       "      <th></th>\n",
       "      <th>battery_power</th>\n",
       "      <th>clock_speed</th>\n",
       "      <th>talk_time</th>\n",
       "      <th>pc</th>\n",
       "      <th>ram</th>\n",
       "    </tr>\n",
       "  </thead>\n",
       "  <tbody>\n",
       "    <tr>\n",
       "      <th>0</th>\n",
       "      <td>-84.425</td>\n",
       "      <td>-0.112</td>\n",
       "      <td>-6.008</td>\n",
       "      <td>-2.238</td>\n",
       "      <td>-1,452.015</td>\n",
       "    </tr>\n",
       "    <tr>\n",
       "      <th>1</th>\n",
       "      <td>-498.425</td>\n",
       "      <td>0.188</td>\n",
       "      <td>-6.008</td>\n",
       "      <td>9.762</td>\n",
       "      <td>-1,281.015</td>\n",
       "    </tr>\n",
       "    <tr>\n",
       "      <th>2</th>\n",
       "      <td>641.575</td>\n",
       "      <td>-1.012</td>\n",
       "      <td>5.992</td>\n",
       "      <td>6.762</td>\n",
       "      <td>-1,817.015</td>\n",
       "    </tr>\n",
       "    <tr>\n",
       "      <th>3</th>\n",
       "      <td>-336.425</td>\n",
       "      <td>0.688</td>\n",
       "      <td>-8.008</td>\n",
       "      <td>2.762</td>\n",
       "      <td>-1,364.015</td>\n",
       "    </tr>\n",
       "    <tr>\n",
       "      <th>4</th>\n",
       "      <td>206.575</td>\n",
       "      <td>0.088</td>\n",
       "      <td>-7.008</td>\n",
       "      <td>0.762</td>\n",
       "      <td>-1,857.015</td>\n",
       "    </tr>\n",
       "  </tbody>\n",
       "</table>\n",
       "</div>"
      ],
      "text/plain": [
       "   battery_power  clock_speed  talk_time     pc        ram\n",
       "0        -84.425       -0.112     -6.008 -2.238 -1,452.015\n",
       "1       -498.425        0.188     -6.008  9.762 -1,281.015\n",
       "2        641.575       -1.012      5.992  6.762 -1,817.015\n",
       "3       -336.425        0.688     -8.008  2.762 -1,364.015\n",
       "4        206.575        0.088     -7.008  0.762 -1,857.015"
      ]
     },
     "execution_count": 263,
     "metadata": {},
     "output_type": "execute_result"
    }
   ],
   "source": [
    "means = df_sub.mean()\n",
    "df_conv = (df_sub - means)\n",
    "df_conv.head()"
   ]
  },
  {
   "cell_type": "code",
   "execution_count": 281,
   "metadata": {},
   "outputs": [
    {
     "data": {
      "text/plain": [
       "array([[ 2.01564529e+05, -2.02713750e+00, -2.10731875e+01,\n",
       "         2.14631563e+02, -5.16345138e+03],\n",
       "       [-2.02713750e+00,  6.73067750e-01, -3.97086250e-01,\n",
       "        -6.39812500e-02, -4.11299225e+01],\n",
       "       [-2.10731875e+01, -3.97086250e-01,  3.13924437e+01,\n",
       "        -1.08928125e+00,  4.40848875e+01],\n",
       "       [ 2.14631563e+02, -6.39812500e-02, -1.08928125e+00,\n",
       "         3.54160938e+01,  1.68166437e+02],\n",
       "       [-5.16345137e+03, -4.11299225e+01,  4.40848875e+01,\n",
       "         1.68166438e+02,  1.11834292e+06]])"
      ]
     },
     "execution_count": 281,
     "metadata": {},
     "output_type": "execute_result"
    }
   ],
   "source": [
    "df_conv_np = np.array(df_conv).T @ np.array(df_conv)\n",
    "cov = df_conv_np / 400\n",
    "cov"
   ]
  },
  {
   "cell_type": "code",
   "execution_count": 282,
   "metadata": {},
   "outputs": [
    {
     "data": {
      "text/plain": [
       "array([1.11837203e+06, 2.01535682e+05, 3.54447663e+01, 3.11095495e+01,\n",
       "       6.66295067e-01])"
      ]
     },
     "execution_count": 282,
     "metadata": {},
     "output_type": "execute_result"
    }
   ],
   "source": [
    "eigvals, eigvecs = np.linalg.eig(cov)\n",
    "eigvals"
   ]
  },
  {
   "cell_type": "code",
   "execution_count": 283,
   "metadata": {},
   "outputs": [],
   "source": [
    "pc1 = (np.array(df_conv) @ eigvecs[:,0].reshape(-1,1)) / np.sqrt(len(df_conv) * eigvals[0])\n",
    "pc2 = (np.array(df_conv) @ eigvecs[:,1].reshape(-1,1)) / np.sqrt(len(df_conv) * eigvals[1])"
   ]
  },
  {
   "cell_type": "code",
   "execution_count": 284,
   "metadata": {},
   "outputs": [
    {
     "data": {
      "text/plain": [
       "<matplotlib.legend.Legend at 0x1a2d247e10>"
      ]
     },
     "execution_count": 284,
     "metadata": {},
     "output_type": "execute_result"
    },
    {
     "data": {
      "image/png": "[encoded data removed]",
      "text/plain": [
       "<Figure size 1080x720 with 1 Axes>"
      ]
     },
     "metadata": {},
     "output_type": "display_data"
    }
   ],
   "source": [
    "fig = plt.figure(figsize=(15,10))\n",
    "colormap = ['red', 'black', 'limegreen', 'dodgerblue']\n",
    "labels = ['low cost', 'medium cost', 'high cost', 'very high cost']\n",
    "for i, (color, label) in enumerate(zip(colormap, labels)):\n",
    "    plt.scatter(pc1[i *100: i * 100+99], pc2[i *100: i * 100+99], c=color, s=75, label=label)\n",
    "plt.legend(fontsize=15)"
   ]
  },
  {
   "cell_type": "code",
   "execution_count": 285,
   "metadata": {},
   "outputs": [],
   "source": [
    "from matplotlib.backends.backend_pdf import PdfPages\n",
    "\n",
    "pp = PdfPages('pca_conv.pdf', keep_empty=False)\n",
    "pp.savefig(fig)\n",
    "pp.close()"
   ]
  },
  {
   "cell_type": "code",
   "execution_count": 287,
   "metadata": {},
   "outputs": [
    {
     "data": {
      "text/plain": [
       "(21150.62200947989, 8978.545131025532)"
      ]
     },
     "execution_count": 287,
     "metadata": {},
     "output_type": "execute_result"
    }
   ],
   "source": [
    "np.sqrt(len(df_conv) * eigvals[0]), np.sqrt(len(df_conv) * eigvals[1])"
   ]
  },
  {
   "cell_type": "code",
   "execution_count": 289,
   "metadata": {},
   "outputs": [
    {
     "data": {
      "text/html": [
       "<div>\n",
       "<style scoped>\n",
       "    .dataframe tbody tr th:only-of-type {\n",
       "        vertical-align: middle;\n",
       "    }\n",
       "\n",
       "    .dataframe tbody tr th {\n",
       "        vertical-align: top;\n",
       "    }\n",
       "\n",
       "    .dataframe thead th {\n",
       "        text-align: right;\n",
       "    }\n",
       "</style>\n",
       "<table border=\"1\" class=\"dataframe\">\n",
       "  <thead>\n",
       "    <tr style=\"text-align: right;\">\n",
       "      <th></th>\n",
       "      <th>battery_power</th>\n",
       "      <th>clock_speed</th>\n",
       "      <th>talk_time</th>\n",
       "      <th>pc</th>\n",
       "      <th>ram</th>\n",
       "    </tr>\n",
       "  </thead>\n",
       "  <tbody>\n",
       "    <tr>\n",
       "      <th>0</th>\n",
       "      <td>-0.188</td>\n",
       "      <td>-0.136</td>\n",
       "      <td>-1.071</td>\n",
       "      <td>-0.376</td>\n",
       "      <td>-1.371</td>\n",
       "    </tr>\n",
       "    <tr>\n",
       "      <th>1</th>\n",
       "      <td>-1.109</td>\n",
       "      <td>0.229</td>\n",
       "      <td>-1.071</td>\n",
       "      <td>1.638</td>\n",
       "      <td>-1.210</td>\n",
       "    </tr>\n",
       "    <tr>\n",
       "      <th>2</th>\n",
       "      <td>1.427</td>\n",
       "      <td>-1.231</td>\n",
       "      <td>1.068</td>\n",
       "      <td>1.135</td>\n",
       "      <td>-1.716</td>\n",
       "    </tr>\n",
       "    <tr>\n",
       "      <th>3</th>\n",
       "      <td>-0.748</td>\n",
       "      <td>0.838</td>\n",
       "      <td>-1.427</td>\n",
       "      <td>0.464</td>\n",
       "      <td>-1.288</td>\n",
       "    </tr>\n",
       "    <tr>\n",
       "      <th>4</th>\n",
       "      <td>0.460</td>\n",
       "      <td>0.108</td>\n",
       "      <td>-1.249</td>\n",
       "      <td>0.128</td>\n",
       "      <td>-1.754</td>\n",
       "    </tr>\n",
       "  </tbody>\n",
       "</table>\n",
       "</div>"
      ],
      "text/plain": [
       "   battery_power  clock_speed  talk_time     pc    ram\n",
       "0         -0.188       -0.136     -1.071 -0.376 -1.371\n",
       "1         -1.109        0.229     -1.071  1.638 -1.210\n",
       "2          1.427       -1.231      1.068  1.135 -1.716\n",
       "3         -0.748        0.838     -1.427  0.464 -1.288\n",
       "4          0.460        0.108     -1.249  0.128 -1.754"
      ]
     },
     "execution_count": 289,
     "metadata": {},
     "output_type": "execute_result"
    }
   ],
   "source": [
    "means = df_sub.mean()\n",
    "std = df_sub.std()\n",
    "df_z_scor = (df_sub - means) / std\n",
    "df_z_scor.head()"
   ]
  },
  {
   "cell_type": "code",
   "execution_count": 290,
   "metadata": {},
   "outputs": [
    {
     "data": {
      "text/plain": [
       "array([20.9806387 , 20.83717792, 19.9700579 , 19.07917192, 18.91578183])"
      ]
     },
     "execution_count": 290,
     "metadata": {},
     "output_type": "execute_result"
    }
   ],
   "source": [
    "z, mu, c = np.linalg.svd(df_z_scor)\n",
    "mu"
   ]
  },
  {
   "cell_type": "code",
   "execution_count": 288,
   "metadata": {},
   "outputs": [
    {
     "data": {
      "text/plain": [
       "(21150.622009479892, 8978.545131025528)"
      ]
     },
     "execution_count": 288,
     "metadata": {},
     "output_type": "execute_result"
    }
   ],
   "source": [
    "mu[0], mu[1]"
   ]
  },
  {
   "cell_type": "code",
   "execution_count": null,
   "metadata": {},
   "outputs": [],
   "source": []
  }
 ],
 "metadata": {
  "kernelspec": {
   "display_name": "Python 3",
   "language": "python",
   "name": "python3"
  },
  "language_info": {
   "codemirror_mode": {
    "name": "ipython",
    "version": 3
   },
   "file_extension": ".py",
   "mimetype": "text/x-python",
   "name": "python",
   "nbconvert_exporter": "python",
   "pygments_lexer": "ipython3",
   "version": "3.6.5"
  }
 },
 "nbformat": 4,
 "nbformat_minor": 2
}
