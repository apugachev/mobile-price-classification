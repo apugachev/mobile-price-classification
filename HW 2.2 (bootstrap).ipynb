{
 "cells": [
  {
   "cell_type": "code",
   "execution_count": 1,
   "metadata": {},
   "outputs": [
    {
     "data": {
      "text/html": [
       "<div>\n",
       "<style scoped>\n",
       "    .dataframe tbody tr th:only-of-type {\n",
       "        vertical-align: middle;\n",
       "    }\n",
       "\n",
       "    .dataframe tbody tr th {\n",
       "        vertical-align: top;\n",
       "    }\n",
       "\n",
       "    .dataframe thead th {\n",
       "        text-align: right;\n",
       "    }\n",
       "</style>\n",
       "<table border=\"1\" class=\"dataframe\">\n",
       "  <thead>\n",
       "    <tr style=\"text-align: right;\">\n",
       "      <th></th>\n",
       "      <th>battery_power</th>\n",
       "      <th>clock_speed</th>\n",
       "      <th>four_g</th>\n",
       "      <th>int_memory</th>\n",
       "      <th>n_cores</th>\n",
       "      <th>pc</th>\n",
       "      <th>ram</th>\n",
       "      <th>talk_time</th>\n",
       "      <th>touch_screen</th>\n",
       "      <th>wifi</th>\n",
       "      <th>price_range</th>\n",
       "    </tr>\n",
       "  </thead>\n",
       "  <tbody>\n",
       "    <tr>\n",
       "      <th>0</th>\n",
       "      <td>1142</td>\n",
       "      <td>1.4</td>\n",
       "      <td>0</td>\n",
       "      <td>6</td>\n",
       "      <td>8</td>\n",
       "      <td>8</td>\n",
       "      <td>663</td>\n",
       "      <td>5</td>\n",
       "      <td>1</td>\n",
       "      <td>1</td>\n",
       "      <td>0</td>\n",
       "    </tr>\n",
       "    <tr>\n",
       "      <th>1</th>\n",
       "      <td>728</td>\n",
       "      <td>1.7</td>\n",
       "      <td>1</td>\n",
       "      <td>5</td>\n",
       "      <td>2</td>\n",
       "      <td>20</td>\n",
       "      <td>834</td>\n",
       "      <td>5</td>\n",
       "      <td>1</td>\n",
       "      <td>0</td>\n",
       "      <td>0</td>\n",
       "    </tr>\n",
       "    <tr>\n",
       "      <th>2</th>\n",
       "      <td>1868</td>\n",
       "      <td>0.5</td>\n",
       "      <td>1</td>\n",
       "      <td>40</td>\n",
       "      <td>8</td>\n",
       "      <td>17</td>\n",
       "      <td>298</td>\n",
       "      <td>17</td>\n",
       "      <td>1</td>\n",
       "      <td>0</td>\n",
       "      <td>0</td>\n",
       "    </tr>\n",
       "    <tr>\n",
       "      <th>3</th>\n",
       "      <td>890</td>\n",
       "      <td>2.2</td>\n",
       "      <td>0</td>\n",
       "      <td>44</td>\n",
       "      <td>8</td>\n",
       "      <td>13</td>\n",
       "      <td>751</td>\n",
       "      <td>3</td>\n",
       "      <td>0</td>\n",
       "      <td>0</td>\n",
       "      <td>0</td>\n",
       "    </tr>\n",
       "    <tr>\n",
       "      <th>4</th>\n",
       "      <td>1433</td>\n",
       "      <td>1.6</td>\n",
       "      <td>0</td>\n",
       "      <td>4</td>\n",
       "      <td>8</td>\n",
       "      <td>11</td>\n",
       "      <td>258</td>\n",
       "      <td>4</td>\n",
       "      <td>1</td>\n",
       "      <td>1</td>\n",
       "      <td>0</td>\n",
       "    </tr>\n",
       "  </tbody>\n",
       "</table>\n",
       "</div>"
      ],
      "text/plain": [
       "   battery_power  clock_speed  four_g  int_memory  n_cores  pc  ram  \\\n",
       "0           1142          1.4       0           6        8   8  663   \n",
       "1            728          1.7       1           5        2  20  834   \n",
       "2           1868          0.5       1          40        8  17  298   \n",
       "3            890          2.2       0          44        8  13  751   \n",
       "4           1433          1.6       0           4        8  11  258   \n",
       "\n",
       "   talk_time  touch_screen  wifi  price_range  \n",
       "0          5             1     1            0  \n",
       "1          5             1     0            0  \n",
       "2         17             1     0            0  \n",
       "3          3             0     0            0  \n",
       "4          4             1     1            0  "
      ]
     },
     "execution_count": 1,
     "metadata": {},
     "output_type": "execute_result"
    }
   ],
   "source": [
    "import pandas as pd\n",
    "\n",
    "df = pd.read_csv('data/mobile.csv', index_col=0)\n",
    "df.head()"
   ]
  },
  {
   "cell_type": "code",
   "execution_count": 2,
   "metadata": {},
   "outputs": [
    {
     "data": {
      "text/html": [
       "<div>\n",
       "<style scoped>\n",
       "    .dataframe tbody tr th:only-of-type {\n",
       "        vertical-align: middle;\n",
       "    }\n",
       "\n",
       "    .dataframe tbody tr th {\n",
       "        vertical-align: top;\n",
       "    }\n",
       "\n",
       "    .dataframe thead th {\n",
       "        text-align: right;\n",
       "    }\n",
       "</style>\n",
       "<table border=\"1\" class=\"dataframe\">\n",
       "  <thead>\n",
       "    <tr style=\"text-align: right;\">\n",
       "      <th></th>\n",
       "      <th>battery_power</th>\n",
       "      <th>pc</th>\n",
       "      <th>int_memory</th>\n",
       "      <th>ram</th>\n",
       "    </tr>\n",
       "  </thead>\n",
       "  <tbody>\n",
       "    <tr>\n",
       "      <th>0</th>\n",
       "      <td>1142</td>\n",
       "      <td>8</td>\n",
       "      <td>6</td>\n",
       "      <td>663</td>\n",
       "    </tr>\n",
       "    <tr>\n",
       "      <th>1</th>\n",
       "      <td>728</td>\n",
       "      <td>20</td>\n",
       "      <td>5</td>\n",
       "      <td>834</td>\n",
       "    </tr>\n",
       "    <tr>\n",
       "      <th>2</th>\n",
       "      <td>1868</td>\n",
       "      <td>17</td>\n",
       "      <td>40</td>\n",
       "      <td>298</td>\n",
       "    </tr>\n",
       "    <tr>\n",
       "      <th>3</th>\n",
       "      <td>890</td>\n",
       "      <td>13</td>\n",
       "      <td>44</td>\n",
       "      <td>751</td>\n",
       "    </tr>\n",
       "    <tr>\n",
       "      <th>4</th>\n",
       "      <td>1433</td>\n",
       "      <td>11</td>\n",
       "      <td>4</td>\n",
       "      <td>258</td>\n",
       "    </tr>\n",
       "  </tbody>\n",
       "</table>\n",
       "</div>"
      ],
      "text/plain": [
       "   battery_power  pc  int_memory  ram\n",
       "0           1142   8           6  663\n",
       "1            728  20           5  834\n",
       "2           1868  17          40  298\n",
       "3            890  13          44  751\n",
       "4           1433  11           4  258"
      ]
     },
     "execution_count": 2,
     "metadata": {},
     "output_type": "execute_result"
    }
   ],
   "source": [
    "chosen_data = df[['battery_power', 'pc', 'int_memory', 'ram']]\n",
    "chosen_data.head()"
   ]
  },
  {
   "cell_type": "code",
   "execution_count": 3,
   "metadata": {},
   "outputs": [],
   "source": [
    "import numpy as np\n",
    "\n",
    "X = np.array(chosen_data)\n",
    "me = np.mean(X, axis=0) # mean\n",
    "ra = np.ptp(X, axis=0) # range\n",
    "Y = np.divide(np.subtract(X, me), ra)\n",
    "\n",
    "me2 = np.mean(X, axis=0)"
   ]
  },
  {
   "cell_type": "code",
   "execution_count": 4,
   "metadata": {},
   "outputs": [
    {
     "name": "stdout",
     "output_type": "stream",
     "text": [
      "delta 0 [19.2013 -4.2259 52.2376 48.4992] #el: 82\n",
      "delta 1 [-25.8201 -41.1796 -46.782    8.6553] #el: 92\n",
      "delta 2 [  8.3991 -47.1756  50.5577 -45.0334] #el: 76\n",
      "delta 3 [ 37.2706  43.0807 -50.063  -14.6005] #el: 71\n",
      "delta 4 [-31.4381  59.0084  -3.3854  -3.9753] #el: 79\n",
      "min inertia 69.52784105786077\n"
     ]
    }
   ],
   "source": [
    "from sklearn.cluster import KMeans\n",
    "np.set_printoptions(precision=4)\n",
    "\n",
    "n_clusters = 5\n",
    "min_inertia = np.inf\n",
    "random_states = np.arange(20)\n",
    "\n",
    "for i in range(20):\n",
    "    kmeans = KMeans(n_clusters=n_clusters, random_state=random_states[i])\n",
    "    kmeans.fit(Y)\n",
    "    preds = kmeans.labels_\n",
    "    if kmeans.inertia_ < min_inertia:\n",
    "        min_inertia = kmeans.inertia_\n",
    "        best_partition, best_deltas, best_means = [], [], []\n",
    "        \n",
    "        for j in range(n_clusters):\n",
    "            cluster = X[np.where(preds==j)]\n",
    "            cluster_means = np.mean(cluster, axis=0)\n",
    "            cur_delta = 100 * (np.divide(np.subtract(cluster_means, me), me))\n",
    "            best_partition.append(cluster)\n",
    "            best_means.append(cluster_means)\n",
    "            best_deltas.append(cur_delta)\n",
    "\n",
    "for i in range(n_clusters):\n",
    "    print(\"delta {}\".format(i), best_deltas[i], \"#el:\", best_partition[i].shape[0])\n",
    "print(\"min inertia\", min_inertia)\n",
    "    "
   ]
  },
  {
   "cell_type": "markdown",
   "metadata": {},
   "source": [
    "## 1 Take a feature, find the 95% confidence interval for its grand mean by using bootstrap"
   ]
  },
  {
   "cell_type": "code",
   "execution_count": 9,
   "metadata": {},
   "outputs": [
    {
     "name": "stdout",
     "output_type": "stream",
     "text": [
      "feature : battery_power\n"
     ]
    },
    {
     "data": {
      "image/png": "[encoded data removed]",
      "text/plain": [
       "<Figure size 432x288 with 1 Axes>"
      ]
     },
     "metadata": {
      "needs_background": "light"
     },
     "output_type": "display_data"
    },
    {
     "name": "stdout",
     "output_type": "stream",
     "text": [
      "batery power mean : 1226.425 , batery power std : 448.959\n"
     ]
    }
   ],
   "source": [
    "import random\n",
    "from matplotlib import pyplot as plt\n",
    "\n",
    "seed = 10\n",
    "\n",
    "random.seed(seed)\n",
    "np.random.seed(seed)\n",
    "\n",
    "feature = 'battery_power'\n",
    "print('feature :', feature)\n",
    "x = df[feature]\n",
    "plt.title('feature distiribution')\n",
    "plt.hist(x, bins=100)\n",
    "plt.show()\n",
    "\n",
    "print('batery power mean :', np.mean(x),', batery power std :', round(np.std(x), 3))"
   ]
  },
  {
   "cell_type": "markdown",
   "metadata": {},
   "source": [
    "В качестве данных было взято разбиение на 5 кластеров, подсчитанное в предыдущем задании. Для воспроизводимости результатов зафиксирован seed равный 10. В качестве признака выбран заряд аккумулятора телефона. Распределение значений данного признака визуально неподдается никакому известному распределению."
   ]
  },
  {
   "cell_type": "code",
   "execution_count": 18,
   "metadata": {},
   "outputs": [],
   "source": [
    "m, k = 150, 5000\n",
    "\n",
    "grand_bootstrap_samples = np.random.choice(x, size=(m, k))\n",
    "f_cl_bootstrap_samples = np.random.choice(best_partition[1][:,0], size=(m, k))\n",
    "s_cl_bootstrap_samples = np.random.choice(best_partition[-2][:,0], size=(m, k))\n",
    "\n",
    "grand_col_means = np.mean(grand_bootstrap_samples, axis = 0)\n",
    "f_col_means = np.mean(f_cl_bootstrap_samples, axis = 0)\n",
    "s_col_means = np.mean(s_cl_bootstrap_samples, axis = 0)\n",
    "\n",
    "grand_mean, grand_std = np.mean(grand_col_means), np.std(grand_col_means)\n",
    "f_mean, f_std = np.mean(f_col_means), np.std(f_col_means)\n",
    "s_mean, s_std = np.mean(s_col_means), np.std(s_col_means)"
   ]
  },
  {
   "cell_type": "code",
   "execution_count": 19,
   "metadata": {},
   "outputs": [
    {
     "data": {
      "image/png": "[encoded data removed]",
      "text/plain": [
       "<Figure size 432x288 with 1 Axes>"
      ]
     },
     "metadata": {
      "needs_background": "light"
     },
     "output_type": "display_data"
    },
    {
     "name": "stdout",
     "output_type": "stream",
     "text": [
      "\n",
      "general bootstrap mean : 1226.0669666666668 , general bootstrap std : 36.98630738336373\n",
      "\n",
      "confidence 95% intervals\n",
      "\n",
      "\tconfidence interval : [1153.5738041952739, 1298.5601291380597], (Pivotal method)\n",
      "\n",
      "Non-pivotal method\n",
      "\n",
      "\tconfidence interval : [1155.4198333333334, 1299.2076666666667], (Non-pivotal method)\n"
     ]
    }
   ],
   "source": [
    "plt.title('grand bootstrap means distiribution')\n",
    "plt.hist(grand_col_means, bins=100)\n",
    "plt.grid()\n",
    "plt.show()\n",
    "\n",
    "print('\\ngeneral bootstrap mean :', grand_mean,', general bootstrap std :', grand_std)\n",
    "\n",
    "print('\\nconfidence 95% intervals')\n",
    "# pivotal method\n",
    "\n",
    "lbp, rbp = grand_mean - 1.96*grand_std, grand_mean + 1.96*grand_std\n",
    "print('\\n\\tconfidence interval : [' + str(lbp) + ', ' + str(rbp) + '], (Pivotal method)')\n",
    "\n",
    "# non-pivotal method\n",
    "print('\\nNon-pivotal method')\n",
    "lbp, rbp = np.percentile(grand_col_means, 2.5), np.percentile(grand_col_means, 97.5)\n",
    "print('\\n\\tconfidence interval : [' + str(lbp) + ', ' + str(rbp) + '], (Non-pivotal method)')"
   ]
  },
  {
   "cell_type": "markdown",
   "metadata": {},
   "source": [
    "Для посдчета 95% доверительных интервалов использовался бутстреп в двух вариантах: pivotal и non-pivotal. В обоих случаях размер генерируемых выборок равен 150 на 5000.\n",
    "Реальное значение математического ожидания заряда аккумулятора лежит внутри полученных интервалов. Следовательно, доверительные интервалы являются корректными."
   ]
  },
  {
   "cell_type": "markdown",
   "metadata": {},
   "source": [
    "## 2 Compare the within-cluster means for one of the features between two clusters using bootstrap"
   ]
  },
  {
   "cell_type": "code",
   "execution_count": 20,
   "metadata": {},
   "outputs": [
    {
     "data": {
      "image/png": "[encoded data removed]",
      "text/plain": [
       "<Figure size 432x288 with 1 Axes>"
      ]
     },
     "metadata": {
      "needs_background": "light"
     },
     "output_type": "display_data"
    },
    {
     "name": "stdout",
     "output_type": "stream",
     "text": [
      "\n",
      "general bootstrap mean : 1226.0669666666668 , general bootstrap std : 36.98630738336373\n",
      "\n",
      "first cluster bootstrap mean : 909.3727333333333 , first cluster bootstrap std : 25.255047974436934\n",
      "\n",
      "second cluster bootstrap mean : 1683.4579866666668 , second cluster bootstrap std : 17.70634230324892\n"
     ]
    },
    {
     "data": {
      "image/png": "[encoded data removed]",
      "text/plain": [
       "<Figure size 432x288 with 1 Axes>"
      ]
     },
     "metadata": {
      "needs_background": "light"
     },
     "output_type": "display_data"
    },
    {
     "name": "stdout",
     "output_type": "stream",
     "text": [
      "\n",
      "confidence 95% intervals\n",
      "\n",
      "\tconfidence interval : [714.1644910623166, 834.0060156043504], (Pivotal method)\n",
      "\n",
      "Non-pivotal method\n",
      "\n",
      "\tconfidence interval : [713.5241666666667, 833.7696666666667], (Non-pivotal method)\n"
     ]
    }
   ],
   "source": [
    "plt.title('clusters bootstrap means distiribution')\n",
    "#plt.hist(grand_col_means, bins=100, label='all data')\n",
    "plt.hist(f_col_means, bins=100, label='first cluster')\n",
    "plt.hist(s_col_means, bins=100, label='second cluster')\n",
    "plt.grid()\n",
    "plt.legend(loc='best')\n",
    "plt.show()\n",
    "\n",
    "print('\\nfirst cluster bootstrap mean :', f_mean,', first cluster bootstrap std :', f_std)\n",
    "print('\\nsecond cluster bootstrap mean :', s_mean,', second cluster bootstrap std :', s_std)\n",
    "\n",
    "dif_col_means = s_col_means - f_col_means\n",
    "differences = s_mean - f_mean\n",
    "dif_std = np.std(dif_col_means)\n",
    "\n",
    "plt.title('differences')\n",
    "plt.hist(s_col_means-f_col_means, bins=100, label='second - first')\n",
    "plt.hist(grand_col_means-f_col_means, bins=100, label='all - second')\n",
    "plt.hist(grand_col_means-s_col_means, bins=100, label='all - first')\n",
    "plt.grid()\n",
    "plt.legend(loc='best')\n",
    "plt.show()\n",
    "\n",
    "print('\\n95% confidence interval A for differences D')\n",
    "# pivotal method\n",
    "\n",
    "lbp, rbp = differences - 1.96*dif_std, differences + 1.96*dif_std\n",
    "print('\\n\\tconfidence interval : [' + str(lbp) + ', ' + str(rbp) + '], (Pivotal method)')\n",
    "\n",
    "# non-pivotal method\n",
    "print('\\nNon-pivotal method')\n",
    "lbp, rbp = np.percentile(dif_col_means, 2.5), np.percentile(dif_col_means, 97.5)\n",
    "print('\\n\\tconfidence interval : [' + str(lbp) + ', ' + str(rbp) + '], (Non-pivotal method)')"
   ]
  },
  {
   "cell_type": "markdown",
   "metadata": {},
   "source": [
    "Сравнивались второй и четвертый кластеры. С помощью  pivotal и non-pivotal методов были построены доверительные интервалы для разности математических ожиданий соотвественных кластеров. В обоих случаях данные интервалы не содержат нуля. Это значит что мат. ожидания в кластерах различны. Опираясь на бустреп распределения мат. ожиданий кластеров, можно сделать вывод, что МО второго кластера ближе к МО всего признака."
   ]
  },
  {
   "cell_type": "markdown",
   "metadata": {},
   "source": [
    "## 3. Take a cluster, and compare the grand mean with the withincluster mean for the feature by using bootstrap"
   ]
  },
  {
   "cell_type": "code",
   "execution_count": 21,
   "metadata": {},
   "outputs": [
    {
     "data": {
      "image/png": "[encoded data removed]",
      "text/plain": [
       "<Figure size 432x288 with 1 Axes>"
      ]
     },
     "metadata": {
      "needs_background": "light"
     },
     "output_type": "display_data"
    },
    {
     "name": "stdout",
     "output_type": "stream",
     "text": [
      "\n",
      "first cluster bootstrap mean : 909.3727333333333 , first cluster bootstrap std : 25.255047974436934\n",
      "\n",
      "grand bootstrap mean : 1226.0669666666668 , grand bootstrap std : 36.98630738336373\n"
     ]
    },
    {
     "data": {
      "image/png": "[encoded data removed]",
      "text/plain": [
       "<Figure size 432x288 with 1 Axes>"
      ]
     },
     "metadata": {
      "needs_background": "light"
     },
     "output_type": "display_data"
    },
    {
     "name": "stdout",
     "output_type": "stream",
     "text": [
      "\n",
      "95% confidence interval A for differences D\n",
      "\n",
      "\tconfidence interval : [228.5408893844567, 404.8475772822103], (Pivotal method)\n",
      "\n",
      "Non-pivotal method\n",
      "\n",
      "\tconfidence interval : [228.1788333333334, 404.5753333333332], (Non-pivotal method)\n"
     ]
    }
   ],
   "source": [
    "plt.title('clusters bootstrap means distiribution')\n",
    "plt.hist(grand_col_means, bins=100, label='all data')\n",
    "plt.hist(f_col_means, bins=100, label='cluster')\n",
    "plt.grid()\n",
    "plt.legend(loc='best')\n",
    "plt.show()\n",
    "\n",
    "print('\\nfirst cluster bootstrap mean :', f_mean,', first cluster bootstrap std :', f_std)\n",
    "print('\\ngrand bootstrap mean :', grand_mean,', grand bootstrap std :', grand_std)\n",
    "\n",
    "dif_col_means = grand_col_means - f_col_means\n",
    "differences = grand_mean - f_mean\n",
    "dif_std = np.std(dif_col_means)\n",
    "\n",
    "plt.title('differences')\n",
    "plt.hist(grand_col_means-f_col_means, bins=100)\n",
    "plt.grid()\n",
    "plt.show()\n",
    "\n",
    "print('\\n95% confidence interval A for differences D')\n",
    "# pivotal method\n",
    "\n",
    "lbp, rbp = differences - 1.96*dif_std, differences + 1.96*dif_std\n",
    "print('\\n\\tconfidence interval : [' + str(lbp) + ', ' + str(rbp) + '], (Pivotal method)')\n",
    "\n",
    "# non-pivotal method\n",
    "print('\\nNon-pivotal method')\n",
    "lbp, rbp = np.percentile(dif_col_means, 2.5), np.percentile(dif_col_means, 97.5)\n",
    "print('\\n\\tconfidence interval : [' + str(lbp) + ', ' + str(rbp) + '], (Non-pivotal method)')"
   ]
  },
  {
   "cell_type": "markdown",
   "metadata": {},
   "source": [
    "Из построенных гистограмм видно, что математическое ожидание во втором кластере сильно меньше чем общее математическое ожидание уровня заряда аккумулятора. В обоих способах построения доверительных интервалов с помощью бутстрепа полученные доверительные интервалы не содержат нуля, что также говорит о сильных различиях между соответствующими мат. ожиданиями."
   ]
  },
  {
   "cell_type": "code",
   "execution_count": null,
   "metadata": {},
   "outputs": [],
   "source": []
  }
 ],
 "metadata": {
  "kernelspec": {
   "display_name": "Python 3",
   "language": "python",
   "name": "python3"
  },
  "language_info": {
   "codemirror_mode": {
    "name": "ipython",
    "version": 3
   },
   "file_extension": ".py",
   "mimetype": "text/x-python",
   "name": "python",
   "nbconvert_exporter": "python",
   "pygments_lexer": "ipython3",
   "version": "3.7.3"
  }
 },
 "nbformat": 4,
 "nbformat_minor": 2
}
