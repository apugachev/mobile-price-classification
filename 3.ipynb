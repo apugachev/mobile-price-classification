{
 "cells": [
  {
   "cell_type": "code",
   "execution_count": 1,
   "metadata": {},
   "outputs": [
    {
     "data": {
      "text/html": [
       "<div>\n",
       "<style scoped>\n",
       "    .dataframe tbody tr th:only-of-type {\n",
       "        vertical-align: middle;\n",
       "    }\n",
       "\n",
       "    .dataframe tbody tr th {\n",
       "        vertical-align: top;\n",
       "    }\n",
       "\n",
       "    .dataframe thead th {\n",
       "        text-align: right;\n",
       "    }\n",
       "</style>\n",
       "<table border=\"1\" class=\"dataframe\">\n",
       "  <thead>\n",
       "    <tr style=\"text-align: right;\">\n",
       "      <th></th>\n",
       "      <th>battery_power</th>\n",
       "      <th>blue</th>\n",
       "      <th>clock_speed</th>\n",
       "      <th>dual_sim</th>\n",
       "      <th>fc</th>\n",
       "      <th>four_g</th>\n",
       "      <th>int_memory</th>\n",
       "      <th>m_dep</th>\n",
       "      <th>mobile_wt</th>\n",
       "      <th>n_cores</th>\n",
       "      <th>...</th>\n",
       "      <th>px_height</th>\n",
       "      <th>px_width</th>\n",
       "      <th>ram</th>\n",
       "      <th>sc_h</th>\n",
       "      <th>sc_w</th>\n",
       "      <th>talk_time</th>\n",
       "      <th>three_g</th>\n",
       "      <th>touch_screen</th>\n",
       "      <th>wifi</th>\n",
       "      <th>price_range</th>\n",
       "    </tr>\n",
       "  </thead>\n",
       "  <tbody>\n",
       "    <tr>\n",
       "      <th>0</th>\n",
       "      <td>842</td>\n",
       "      <td>0</td>\n",
       "      <td>2.2</td>\n",
       "      <td>0</td>\n",
       "      <td>1</td>\n",
       "      <td>0</td>\n",
       "      <td>7</td>\n",
       "      <td>0.6</td>\n",
       "      <td>188</td>\n",
       "      <td>2</td>\n",
       "      <td>...</td>\n",
       "      <td>20</td>\n",
       "      <td>756</td>\n",
       "      <td>2549</td>\n",
       "      <td>9</td>\n",
       "      <td>7</td>\n",
       "      <td>19</td>\n",
       "      <td>0</td>\n",
       "      <td>0</td>\n",
       "      <td>1</td>\n",
       "      <td>1</td>\n",
       "    </tr>\n",
       "    <tr>\n",
       "      <th>1</th>\n",
       "      <td>1021</td>\n",
       "      <td>1</td>\n",
       "      <td>0.5</td>\n",
       "      <td>1</td>\n",
       "      <td>0</td>\n",
       "      <td>1</td>\n",
       "      <td>53</td>\n",
       "      <td>0.7</td>\n",
       "      <td>136</td>\n",
       "      <td>3</td>\n",
       "      <td>...</td>\n",
       "      <td>905</td>\n",
       "      <td>1988</td>\n",
       "      <td>2631</td>\n",
       "      <td>17</td>\n",
       "      <td>3</td>\n",
       "      <td>7</td>\n",
       "      <td>1</td>\n",
       "      <td>1</td>\n",
       "      <td>0</td>\n",
       "      <td>2</td>\n",
       "    </tr>\n",
       "    <tr>\n",
       "      <th>2</th>\n",
       "      <td>563</td>\n",
       "      <td>1</td>\n",
       "      <td>0.5</td>\n",
       "      <td>1</td>\n",
       "      <td>2</td>\n",
       "      <td>1</td>\n",
       "      <td>41</td>\n",
       "      <td>0.9</td>\n",
       "      <td>145</td>\n",
       "      <td>5</td>\n",
       "      <td>...</td>\n",
       "      <td>1263</td>\n",
       "      <td>1716</td>\n",
       "      <td>2603</td>\n",
       "      <td>11</td>\n",
       "      <td>2</td>\n",
       "      <td>9</td>\n",
       "      <td>1</td>\n",
       "      <td>1</td>\n",
       "      <td>0</td>\n",
       "      <td>2</td>\n",
       "    </tr>\n",
       "    <tr>\n",
       "      <th>3</th>\n",
       "      <td>615</td>\n",
       "      <td>1</td>\n",
       "      <td>2.5</td>\n",
       "      <td>0</td>\n",
       "      <td>0</td>\n",
       "      <td>0</td>\n",
       "      <td>10</td>\n",
       "      <td>0.8</td>\n",
       "      <td>131</td>\n",
       "      <td>6</td>\n",
       "      <td>...</td>\n",
       "      <td>1216</td>\n",
       "      <td>1786</td>\n",
       "      <td>2769</td>\n",
       "      <td>16</td>\n",
       "      <td>8</td>\n",
       "      <td>11</td>\n",
       "      <td>1</td>\n",
       "      <td>0</td>\n",
       "      <td>0</td>\n",
       "      <td>2</td>\n",
       "    </tr>\n",
       "    <tr>\n",
       "      <th>4</th>\n",
       "      <td>1821</td>\n",
       "      <td>1</td>\n",
       "      <td>1.2</td>\n",
       "      <td>0</td>\n",
       "      <td>13</td>\n",
       "      <td>1</td>\n",
       "      <td>44</td>\n",
       "      <td>0.6</td>\n",
       "      <td>141</td>\n",
       "      <td>2</td>\n",
       "      <td>...</td>\n",
       "      <td>1208</td>\n",
       "      <td>1212</td>\n",
       "      <td>1411</td>\n",
       "      <td>8</td>\n",
       "      <td>2</td>\n",
       "      <td>15</td>\n",
       "      <td>1</td>\n",
       "      <td>1</td>\n",
       "      <td>0</td>\n",
       "      <td>1</td>\n",
       "    </tr>\n",
       "  </tbody>\n",
       "</table>\n",
       "<p>5 rows × 21 columns</p>\n",
       "</div>"
      ],
      "text/plain": [
       "   battery_power  blue  clock_speed  dual_sim  fc  four_g  int_memory  m_dep  \\\n",
       "0            842     0          2.2         0   1       0           7    0.6   \n",
       "1           1021     1          0.5         1   0       1          53    0.7   \n",
       "2            563     1          0.5         1   2       1          41    0.9   \n",
       "3            615     1          2.5         0   0       0          10    0.8   \n",
       "4           1821     1          1.2         0  13       1          44    0.6   \n",
       "\n",
       "   mobile_wt  n_cores  ...  px_height  px_width   ram  sc_h  sc_w  talk_time  \\\n",
       "0        188        2  ...         20       756  2549     9     7         19   \n",
       "1        136        3  ...        905      1988  2631    17     3          7   \n",
       "2        145        5  ...       1263      1716  2603    11     2          9   \n",
       "3        131        6  ...       1216      1786  2769    16     8         11   \n",
       "4        141        2  ...       1208      1212  1411     8     2         15   \n",
       "\n",
       "   three_g  touch_screen  wifi  price_range  \n",
       "0        0             0     1            1  \n",
       "1        1             1     0            2  \n",
       "2        1             1     0            2  \n",
       "3        1             0     0            2  \n",
       "4        1             1     0            1  \n",
       "\n",
       "[5 rows x 21 columns]"
      ]
     },
     "execution_count": 1,
     "metadata": {},
     "output_type": "execute_result"
    }
   ],
   "source": [
    "import pandas as pd\n",
    "\n",
    "data = pd.read_csv('data/train.csv')\n",
    "data.head()"
   ]
  },
  {
   "cell_type": "code",
   "execution_count": 2,
   "metadata": {},
   "outputs": [
    {
     "data": {
      "text/plain": [
       "(2000, 21)"
      ]
     },
     "execution_count": 2,
     "metadata": {},
     "output_type": "execute_result"
    }
   ],
   "source": [
    "data.shape"
   ]
  },
  {
   "cell_type": "code",
   "execution_count": 3,
   "metadata": {},
   "outputs": [
    {
     "name": "stdout",
     "output_type": "stream",
     "text": [
      "feature : battery_power\n"
     ]
    },
    {
     "data": {
      "text/plain": [
       "<Figure size 640x480 with 1 Axes>"
      ]
     },
     "metadata": {},
     "output_type": "display_data"
    }
   ],
   "source": [
    "import numpy as np\n",
    "from matplotlib import pyplot as plt\n",
    "import random\n",
    "\n",
    "seed = 10\n",
    "\n",
    "random.seed(seed)\n",
    "np.random.seed(seed)\n",
    "\n",
    "feature = 'battery_power'\n",
    "\n",
    "print('feature :', feature)\n",
    "\n",
    "x = data[feature]\n",
    "\n",
    "m, k = 150, 5000\n",
    "\n",
    "plt.title('feature distiribution')\n",
    "plt.hist(x, bins=100)\n",
    "plt.show()"
   ]
  },
  {
   "cell_type": "markdown",
   "metadata": {},
   "source": [
    "## 3.1 Compare one of the features between two clusters with using bootstrap"
   ]
  },
  {
   "cell_type": "code",
   "execution_count": 4,
   "metadata": {},
   "outputs": [],
   "source": [
    "def bootstrap(cluster):\n",
    "    cluster_mean, cluster_std = np.mean(cluster), np.std(cluster)\n",
    "    print('cluster mean :', cluster_mean,', cluster std :', cluster_std)\n",
    "\n",
    "    bootstrap_samples = np.random.choice(x, size=(m, k))\n",
    "\n",
    "    col_means = np.mean(bootstrap_samples, axis = 0)\n",
    "    bootstrap_mean, bootstrap_std = np.mean(col_means), np.std(col_means)\n",
    "    plt.title('bootstrap means distiribution')\n",
    "    plt.hist(col_means, bins=100)\n",
    "    plt.show()\n",
    "\n",
    "    print('general bootstrap mean :', bootstrap_mean,', general bootstrap std :', bootstrap_std)\n",
    "    print('difference of means :', np.absolute(cluster_mean-bootstrap_mean))\n",
    "\n",
    "    # pivotal method\n",
    "\n",
    "    print('\\n     Pivotal method')\n",
    "\n",
    "    piv_lbp, piv_rbp = bootstrap_mean - 1.96*bootstrap_std, bootstrap_mean + 1.96*bootstrap_std\n",
    "    plt.hist(col_means, bins=100)\n",
    "    plt.hist([piv_lbp, bootstrap_mean, piv_rbp]*180, bins = 100)\n",
    "    plt.show()\n",
    "\n",
    "    print('confidence interval : [' + str(piv_lbp) + ', ' + str(piv_rbp) + ']')\n",
    "    \n",
    "\n",
    "    # non-pivotal method\n",
    "    print('\\n     Non-pivotal method')\n",
    "    non_piv_lbp, non_piv_rbp = np.percentile(col_means, 2.5), np.percentile(col_means, 97.5)\n",
    "    non_piv_mean = (non_piv_lbp + non_piv_rbp)/2\n",
    "    plt.hist(col_means, bins=100)\n",
    "    plt.hist([non_piv_lbp, bootstrap_mean, non_piv_rbp]*180, bins = 100)\n",
    "    plt.show()\n",
    "    difference = np.absolute(cluster_mean-non_piv_mean)\n",
    "    print('confidence interval : [' + str(non_piv_lbp) + ', ' + str(non_piv_rbp) + ']')\n",
    "    return piv_lbp, piv_rbp, non_piv_lbp, non_piv_rbp, bootstrap_mean, non_piv_mean"
   ]
  },
  {
   "cell_type": "code",
   "execution_count": 5,
   "metadata": {},
   "outputs": [],
   "source": [
    "first_cluster, second_cluster = x[:700], x[-700:]"
   ]
  },
  {
   "cell_type": "code",
   "execution_count": 6,
   "metadata": {},
   "outputs": [
    {
     "name": "stdout",
     "output_type": "stream",
     "text": [
      "cluster mean : 1252.8728571428571 , cluster std : 442.49296311480754\n"
     ]
    },
    {
     "data": {
      "image/png": "[encoded data removed]",
      "text/plain": [
       "<Figure size 432x288 with 1 Axes>"
      ]
     },
     "metadata": {
      "needs_background": "light"
     },
     "output_type": "display_data"
    },
    {
     "name": "stdout",
     "output_type": "stream",
     "text": [
      "general bootstrap mean : 1237.7837133333333 , general bootstrap std : 35.881737072004874\n",
      "difference of means : 15.089143809523875\n",
      "\n",
      "     Pivotal method\n"
     ]
    },
    {
     "data": {
      "image/png": "[encoded data removed]",
      "text/plain": [
       "<Figure size 432x288 with 1 Axes>"
      ]
     },
     "metadata": {
      "needs_background": "light"
     },
     "output_type": "display_data"
    },
    {
     "name": "stdout",
     "output_type": "stream",
     "text": [
      "confidence interval : [1167.4555086722037, 1308.1119179944628]\n",
      "\n",
      "     Non-pivotal method\n"
     ]
    },
    {
     "data": {
      "image/png": "[encoded data removed]",
      "text/plain": [
       "<Figure size 432x288 with 1 Axes>"
      ]
     },
     "metadata": {
      "needs_background": "light"
     },
     "output_type": "display_data"
    },
    {
     "name": "stdout",
     "output_type": "stream",
     "text": [
      "confidence interval : [1167.0614999999998, 1307.4145]\n"
     ]
    }
   ],
   "source": [
    "piv_lbp, piv_rbp, non_piv_lbp, non_piv_rbp, piv_mean, non_piv_mean = bootstrap(first_cluster)"
   ]
  },
  {
   "cell_type": "code",
   "execution_count": 7,
   "metadata": {},
   "outputs": [
    {
     "name": "stdout",
     "output_type": "stream",
     "text": [
      "cluster mean : 1233.142857142857 , cluster std : 439.69130683483274\n"
     ]
    },
    {
     "data": {
      "image/png": "[encoded data removed]",
      "text/plain": [
       "<Figure size 432x288 with 1 Axes>"
      ]
     },
     "metadata": {
      "needs_background": "light"
     },
     "output_type": "display_data"
    },
    {
     "name": "stdout",
     "output_type": "stream",
     "text": [
      "general bootstrap mean : 1238.1837893333334 , general bootstrap std : 35.69639886532063\n",
      "difference of means : 5.040932190476269\n",
      "\n",
      "     Pivotal method\n"
     ]
    },
    {
     "data": {
      "image/png": "[encoded data removed]",
      "text/plain": [
       "<Figure size 432x288 with 1 Axes>"
      ]
     },
     "metadata": {
      "needs_background": "light"
     },
     "output_type": "display_data"
    },
    {
     "name": "stdout",
     "output_type": "stream",
     "text": [
      "confidence interval : [1168.218847557305, 1308.1487311093617]\n",
      "\n",
      "     Non-pivotal method\n"
     ]
    },
    {
     "data": {
      "image/png": "[encoded data removed]",
      "text/plain": [
       "<Figure size 432x288 with 1 Axes>"
      ]
     },
     "metadata": {
      "needs_background": "light"
     },
     "output_type": "display_data"
    },
    {
     "name": "stdout",
     "output_type": "stream",
     "text": [
      "confidence interval : [1170.24, 1308.9503333333334]\n"
     ]
    }
   ],
   "source": [
    "piv_lbp_, piv_rbp_, non_piv_lbp_, non_piv_rbp_, piv_mean_, non_piv_mean_ = bootstrap(second_cluster)"
   ]
  },
  {
   "cell_type": "code",
   "execution_count": 8,
   "metadata": {},
   "outputs": [
    {
     "name": "stdout",
     "output_type": "stream",
     "text": [
      "means : 1237.7837133333333 1238.1837893333334\n",
      "D : 0.40007600000012644\n"
     ]
    }
   ],
   "source": [
    "print('means :', piv_mean, piv_mean_)\n",
    "print('D :', np.absolute(piv_mean - piv_mean_))"
   ]
  },
  {
   "cell_type": "markdown",
   "metadata": {},
   "source": [
    "## 3.2. Take a feature, find the 95% confidence interval for its grand mean by using bootstrap"
   ]
  },
  {
   "cell_type": "code",
   "execution_count": 9,
   "metadata": {},
   "outputs": [
    {
     "name": "stdout",
     "output_type": "stream",
     "text": [
      "\n",
      "Pivotal method\n",
      "confidence interval : [1169.0235467112175, 1309.8608692887824]\n",
      "\n",
      "Non-pivotal method\n",
      "confidence interval : [1167.9373333333335, 1309.5294999999996]\n"
     ]
    }
   ],
   "source": [
    "bootstrap_samples = np.random.choice(x, size=(m, k))\n",
    "col_means = np.mean(bootstrap_samples, axis = 0)\n",
    "\n",
    "# pivotal method\n",
    "print('\\nPivotal method')\n",
    "bootstrap_mean, bootstrap_std = np.mean(col_means), np.std(col_means)\n",
    "lbp, rbp = bootstrap_mean - 1.96*bootstrap_std, bootstrap_mean + 1.96*bootstrap_std\n",
    "print('confidence interval : [' + str(lbp) + ', ' + str(rbp) + ']')\n",
    "\n",
    "# non-pivotal method\n",
    "print('\\nNon-pivotal method')\n",
    "lbp, rbp = np.percentile(col_means, 2.5), np.percentile(col_means, 97.5)\n",
    "print('confidence interval : [' + str(lbp) + ', ' + str(rbp) + ']')"
   ]
  },
  {
   "cell_type": "markdown",
   "metadata": {},
   "source": [
    "## 3.3. Take a cluster, and compare the grand mean with the within-cluster mean for the feature by using bootstrap"
   ]
  },
  {
   "cell_type": "code",
   "execution_count": 10,
   "metadata": {},
   "outputs": [
    {
     "name": "stdout",
     "output_type": "stream",
     "text": [
      "cluster mean : 1238.5185 , cluster std : 439.3083377967573\n"
     ]
    },
    {
     "data": {
      "image/png": "[encoded data removed]",
      "text/plain": [
       "<Figure size 432x288 with 1 Axes>"
      ]
     },
     "metadata": {
      "needs_background": "light"
     },
     "output_type": "display_data"
    },
    {
     "name": "stdout",
     "output_type": "stream",
     "text": [
      "general bootstrap mean : 1238.0305106666667 , general bootstrap std : 35.64539293088235\n",
      "difference of means : 0.4879893333331893\n",
      "\n",
      "     Pivotal method\n"
     ]
    },
    {
     "data": {
      "image/png": "[encoded data removed]",
      "text/plain": [
       "<Figure size 432x288 with 1 Axes>"
      ]
     },
     "metadata": {
      "needs_background": "light"
     },
     "output_type": "display_data"
    },
    {
     "name": "stdout",
     "output_type": "stream",
     "text": [
      "confidence interval : [1168.1655405221372, 1307.8954808111962]\n",
      "\n",
      "     Non-pivotal method\n"
     ]
    },
    {
     "data": {
      "image/png": "[encoded data removed]",
      "text/plain": [
       "<Figure size 432x288 with 1 Axes>"
      ]
     },
     "metadata": {
      "needs_background": "light"
     },
     "output_type": "display_data"
    },
    {
     "name": "stdout",
     "output_type": "stream",
     "text": [
      "confidence interval : [1168.1331666666667, 1306.8534999999997]\n"
     ]
    }
   ],
   "source": [
    "g_piv_lbp, piv_rbp, g_non_piv_lbp, g_non_piv_rbp, g_piv_mean, g_non_piv_mean = bootstrap(x)"
   ]
  }
 ],
 "metadata": {
  "kernelspec": {
   "display_name": "Python 3",
   "language": "python",
   "name": "python3"
  },
  "language_info": {
   "codemirror_mode": {
    "name": "ipython",
    "version": 3
   },
   "file_extension": ".py",
   "mimetype": "text/x-python",
   "name": "python",
   "nbconvert_exporter": "python",
   "pygments_lexer": "ipython3",
   "version": "3.7.3"
  }
 },
 "nbformat": 4,
 "nbformat_minor": 2
}
