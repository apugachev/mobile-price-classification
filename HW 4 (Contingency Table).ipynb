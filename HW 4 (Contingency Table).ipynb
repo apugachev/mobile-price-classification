{
 "cells": [
  {
   "cell_type": "code",
   "execution_count": 74,
   "metadata": {},
   "outputs": [
    {
     "name": "stdout",
     "output_type": "stream",
     "text": [
      "400\n"
     ]
    },
    {
     "data": {
      "text/html": [
       "<div>\n",
       "<style scoped>\n",
       "    .dataframe tbody tr th:only-of-type {\n",
       "        vertical-align: middle;\n",
       "    }\n",
       "\n",
       "    .dataframe tbody tr th {\n",
       "        vertical-align: top;\n",
       "    }\n",
       "\n",
       "    .dataframe thead th {\n",
       "        text-align: right;\n",
       "    }\n",
       "</style>\n",
       "<table border=\"1\" class=\"dataframe\">\n",
       "  <thead>\n",
       "    <tr style=\"text-align: right;\">\n",
       "      <th></th>\n",
       "      <th>battery_power</th>\n",
       "      <th>clock_speed</th>\n",
       "      <th>four_g</th>\n",
       "      <th>int_memory</th>\n",
       "      <th>n_cores</th>\n",
       "      <th>pc</th>\n",
       "      <th>ram</th>\n",
       "      <th>talk_time</th>\n",
       "      <th>touch_screen</th>\n",
       "      <th>wifi</th>\n",
       "      <th>price_range</th>\n",
       "    </tr>\n",
       "  </thead>\n",
       "  <tbody>\n",
       "    <tr>\n",
       "      <th>0</th>\n",
       "      <td>1142</td>\n",
       "      <td>1.400</td>\n",
       "      <td>0</td>\n",
       "      <td>6</td>\n",
       "      <td>8</td>\n",
       "      <td>8</td>\n",
       "      <td>663</td>\n",
       "      <td>5</td>\n",
       "      <td>1</td>\n",
       "      <td>1</td>\n",
       "      <td>0</td>\n",
       "    </tr>\n",
       "    <tr>\n",
       "      <th>1</th>\n",
       "      <td>728</td>\n",
       "      <td>1.700</td>\n",
       "      <td>1</td>\n",
       "      <td>5</td>\n",
       "      <td>2</td>\n",
       "      <td>20</td>\n",
       "      <td>834</td>\n",
       "      <td>5</td>\n",
       "      <td>1</td>\n",
       "      <td>0</td>\n",
       "      <td>0</td>\n",
       "    </tr>\n",
       "    <tr>\n",
       "      <th>2</th>\n",
       "      <td>1868</td>\n",
       "      <td>0.500</td>\n",
       "      <td>1</td>\n",
       "      <td>40</td>\n",
       "      <td>8</td>\n",
       "      <td>17</td>\n",
       "      <td>298</td>\n",
       "      <td>17</td>\n",
       "      <td>1</td>\n",
       "      <td>0</td>\n",
       "      <td>0</td>\n",
       "    </tr>\n",
       "    <tr>\n",
       "      <th>3</th>\n",
       "      <td>890</td>\n",
       "      <td>2.200</td>\n",
       "      <td>0</td>\n",
       "      <td>44</td>\n",
       "      <td>8</td>\n",
       "      <td>13</td>\n",
       "      <td>751</td>\n",
       "      <td>3</td>\n",
       "      <td>0</td>\n",
       "      <td>0</td>\n",
       "      <td>0</td>\n",
       "    </tr>\n",
       "    <tr>\n",
       "      <th>4</th>\n",
       "      <td>1433</td>\n",
       "      <td>1.600</td>\n",
       "      <td>0</td>\n",
       "      <td>4</td>\n",
       "      <td>8</td>\n",
       "      <td>11</td>\n",
       "      <td>258</td>\n",
       "      <td>4</td>\n",
       "      <td>1</td>\n",
       "      <td>1</td>\n",
       "      <td>0</td>\n",
       "    </tr>\n",
       "  </tbody>\n",
       "</table>\n",
       "</div>"
      ],
      "text/plain": [
       "   battery_power  clock_speed  four_g  int_memory  n_cores  pc  ram  \\\n",
       "0           1142        1.400       0           6        8   8  663   \n",
       "1            728        1.700       1           5        2  20  834   \n",
       "2           1868        0.500       1          40        8  17  298   \n",
       "3            890        2.200       0          44        8  13  751   \n",
       "4           1433        1.600       0           4        8  11  258   \n",
       "\n",
       "   talk_time  touch_screen  wifi  price_range  \n",
       "0          5             1     1            0  \n",
       "1          5             1     0            0  \n",
       "2         17             1     0            0  \n",
       "3          3             0     0            0  \n",
       "4          4             1     1            0  "
      ]
     },
     "execution_count": 74,
     "metadata": {},
     "output_type": "execute_result"
    }
   ],
   "source": [
    "import pandas as pd\n",
    "from matplotlib import pyplot as plt\n",
    "import numpy as np\n",
    "from copy import deepcopy\n",
    "import math\n",
    "from matplotlib.backends.backend_pdf import PdfPages\n",
    "pd.options.display.float_format = '{:,.3f}'.format\n",
    "\n",
    "df = pd.read_csv('data/mobile.csv', index_col=0)\n",
    "print(len(df))\n",
    "df.head()"
   ]
  },
  {
   "cell_type": "code",
   "execution_count": 75,
   "metadata": {},
   "outputs": [
    {
     "data": {
      "text/html": [
       "<div>\n",
       "<style scoped>\n",
       "    .dataframe tbody tr th:only-of-type {\n",
       "        vertical-align: middle;\n",
       "    }\n",
       "\n",
       "    .dataframe tbody tr th {\n",
       "        vertical-align: top;\n",
       "    }\n",
       "\n",
       "    .dataframe thead th {\n",
       "        text-align: right;\n",
       "    }\n",
       "</style>\n",
       "<table border=\"1\" class=\"dataframe\">\n",
       "  <thead>\n",
       "    <tr style=\"text-align: right;\">\n",
       "      <th></th>\n",
       "      <th>battery_power</th>\n",
       "      <th>int_memory</th>\n",
       "      <th>ram</th>\n",
       "    </tr>\n",
       "  </thead>\n",
       "  <tbody>\n",
       "    <tr>\n",
       "      <th>0</th>\n",
       "      <td>1142</td>\n",
       "      <td>6</td>\n",
       "      <td>663</td>\n",
       "    </tr>\n",
       "    <tr>\n",
       "      <th>1</th>\n",
       "      <td>728</td>\n",
       "      <td>5</td>\n",
       "      <td>834</td>\n",
       "    </tr>\n",
       "    <tr>\n",
       "      <th>2</th>\n",
       "      <td>1868</td>\n",
       "      <td>40</td>\n",
       "      <td>298</td>\n",
       "    </tr>\n",
       "    <tr>\n",
       "      <th>3</th>\n",
       "      <td>890</td>\n",
       "      <td>44</td>\n",
       "      <td>751</td>\n",
       "    </tr>\n",
       "    <tr>\n",
       "      <th>4</th>\n",
       "      <td>1433</td>\n",
       "      <td>4</td>\n",
       "      <td>258</td>\n",
       "    </tr>\n",
       "  </tbody>\n",
       "</table>\n",
       "</div>"
      ],
      "text/plain": [
       "   battery_power  int_memory  ram\n",
       "0           1142           6  663\n",
       "1            728           5  834\n",
       "2           1868          40  298\n",
       "3            890          44  751\n",
       "4           1433           4  258"
      ]
     },
     "execution_count": 75,
     "metadata": {},
     "output_type": "execute_result"
    }
   ],
   "source": [
    "cols = ['battery_power', 'int_memory', 'ram']\n",
    "\n",
    "df = df[cols]\n",
    "df.head()"
   ]
  },
  {
   "cell_type": "code",
   "execution_count": 36,
   "metadata": {
    "scrolled": true
   },
   "outputs": [
    {
     "data": {
      "image/png": "[encoded data removed]",
      "text/plain": [
       "<Figure size 864x576 with 1 Axes>"
      ]
     },
     "metadata": {},
     "output_type": "display_data"
    },
    {
     "data": {
      "image/png": "[encoded data removed]",
      "text/plain": [
       "<Figure size 864x576 with 1 Axes>"
      ]
     },
     "metadata": {},
     "output_type": "display_data"
    },
    {
     "data": {
      "image/png": "[encoded data removed]",
      "text/plain": [
       "<Figure size 864x576 with 1 Axes>"
      ]
     },
     "metadata": {},
     "output_type": "display_data"
    }
   ],
   "source": [
    "for col in cols:\n",
    "    fig = plt.figure(figsize=(12,8))\n",
    "    plt.title(col, size=15)\n",
    "    plt.hist(df[col], bins=50, edgecolor='black', linewidth=1)\n",
    "    plt.xlabel('Value', size=15)\n",
    "    plt.ylabel('Frequency', size=15)\n",
    "    plt.grid(axis='y')\n",
    "    plt.show()\n",
    "\n",
    "    pp = PdfPages('contingency_' + col + '.pdf', keep_empty=False)\n",
    "    pp.savefig(fig)\n",
    "    pp.close()\n"
   ]
  },
  {
   "cell_type": "code",
   "execution_count": 37,
   "metadata": {
    "scrolled": true
   },
   "outputs": [
    {
     "data": {
      "text/plain": [
       "([502, 950, 1300, 1600, 1997],\n",
       " [2, 19, 32, 55, 64],\n",
       " [258, 1000, 2400, 3200, 3978])"
      ]
     },
     "execution_count": 37,
     "metadata": {},
     "output_type": "execute_result"
    }
   ],
   "source": [
    "bat_pivots = [df['battery_power'].min(), 950, 1300, 1600, df['battery_power'].max()]\n",
    "int_pivots = [df['int_memory'].min(), 19, 32, 55, df['int_memory'].max()]\n",
    "ram_pivots = [df['ram'].min(), 1000, 2400, 3200, df['ram'].max()]\n",
    "\n",
    "bat_pivots, int_pivots, ram_pivots"
   ]
  },
  {
   "cell_type": "code",
   "execution_count": 100,
   "metadata": {},
   "outputs": [],
   "source": [
    "def generate_cont_freq(pivots_list, initial_df, col_name):\n",
    "    \"\"\"\n",
    "    pivots_list - лист пивотов\n",
    "    initial_df - исходный датафрейм\n",
    "    col_name - колонка (фича) которую категоризуем\n",
    "    \n",
    "    return:\n",
    "    \n",
    "    relative frequency table\n",
    "    conditional frequency table\n",
    "    \n",
    "    \"\"\"\n",
    "    \n",
    "    categories_inds = np.zeros(len(initial_df), dtype=int)\n",
    "    ln = len(categories_inds)\n",
    "\n",
    "    for i in range(len(bat_pivots) - 1):\n",
    "        new_df = initial_df[initial_df[col_name] >= pivots_list[i]] # находим нужные элементы попадающие в промежуток\n",
    "        new_df = new_df[new_df[col_name] <= pivots_list[i+1]]\n",
    "        categories_inds[new_df.index.tolist()] = i # присваиваем тип категории соответствующим индексам\n",
    "        \n",
    "    zer = [0] * 5\n",
    "    df_cats = pd.DataFrame({'Partitions': ['Part 1', 'Part 2', 'Part 3', 'Part 4', 'Total'], \n",
    "                               'Cat 1': zer, 'Cat 2': zer, 'Cat 3': zer, 'Cat 4': zer, 'Total': zer})\n",
    "    df_cats = df_cats.set_index('Partitions')\n",
    "\n",
    "    #заполняем табличку\n",
    "    \n",
    "    for i in range(4):\n",
    "        cur_slice = np.arange(i * 100, i*100 + 100)\n",
    "        for j in cur_slice:\n",
    "            df_cats.iloc[i, categories_inds[j]] += 1\n",
    "\n",
    "    df_cats['Total'] = [np.sum(df_cats.iloc[i,0:4]) for i in range(5)]\n",
    "    colsum = df_cats.sum(axis=0).tolist()\n",
    "\n",
    "    for i in range(5):\n",
    "        df_cats.iloc[4,i] = colsum[i]\n",
    "        \n",
    "    # нормализация:    \n",
    "    \n",
    "    df_cats_freq = deepcopy(df_cats / ln)\n",
    "    \n",
    "    for i in range(4):\n",
    "        for j in range(4):\n",
    "            df_cats_freq.iloc[i,j] = df_cats_freq.iloc[i,j] / df_cats_freq.iloc[-1,j]\n",
    "    \n",
    "    df_cats_freq = df_cats_freq.iloc[:-1,:-1]\n",
    "    return df_cats, df_cats / ln, df_cats_freq"
   ]
  },
  {
   "cell_type": "code",
   "execution_count": 101,
   "metadata": {},
   "outputs": [],
   "source": [
    "def generate_quetlet(rel_freq_table):\n",
    "    \"\"\"\n",
    "    rel_freq_table - relative frequency table\n",
    "    \"\"\"\n",
    "    \n",
    "    quet_table = deepcopy(rel_freq_table)\n",
    "    ln = len(rel_freq_table)\n",
    "    \n",
    "    for i in range(ln-1):\n",
    "        for j in range(ln-1):\n",
    "            quet_table.iloc[i,j] = rel_freq_table.iloc[i,-1] * rel_freq_table.iloc[-1,j]\n",
    "    \n",
    "            \n",
    "    quet_table = rel_freq_table.divide(quet_table)\n",
    "    quet_table = quet_table.subtract(1)\n",
    "\n",
    "    return quet_table.iloc[:-1,:-1]"
   ]
  },
  {
   "cell_type": "code",
   "execution_count": 108,
   "metadata": {},
   "outputs": [],
   "source": [
    "def get_chi2(rel_freq_table):\n",
    "    \n",
    "    indep_table = deepcopy(rel_freq_table)\n",
    "    ln = len(rel_freq_table)\n",
    "    \n",
    "    for i in range(ln-1):\n",
    "        for j in range(ln-1):\n",
    "            indep_table.iloc[i,j] = rel_freq_table.iloc[i,-1] * rel_freq_table.iloc[-1,j]\n",
    "        \n",
    "    subtr_table = rel_freq_table - indep_table\n",
    "    subtr_table = subtr_table.multiply(subtr_table)\n",
    "    chi_table = subtr_table.divide(indep_table)\n",
    "    \n",
    "#    chi_table = rel_freq_table.iloc[:-1,:-1].multiply(indep_table)\n",
    "    return chi_table.values.sum()"
   ]
  },
  {
   "cell_type": "code",
   "execution_count": 114,
   "metadata": {},
   "outputs": [],
   "source": [
    "def get_interval(chi2_value):\n",
    "    freedom = 9\n",
    "    t_95 = 16.92\n",
    "    t_99 = 21.67\n",
    "    \n",
    "    ans_95 = t_95 / chi2_value\n",
    "    ans_99 = t_99 / chi2_value\n",
    "    \n",
    "    return ans_95, ans_99"
   ]
  },
  {
   "cell_type": "code",
   "execution_count": 115,
   "metadata": {
    "scrolled": true
   },
   "outputs": [
    {
     "data": {
      "text/plain": [
       "0.06360754796904566"
      ]
     },
     "execution_count": 115,
     "metadata": {},
     "output_type": "execute_result"
    }
   ],
   "source": [
    "bat_cont_tab, bat_rel_freq, bat_cond_freq = generate_cont_freq(bat_pivots, df, 'battery_power')\n",
    "bat_quet = generate_quetlet(bat_rel_freq)\n",
    "bat_chi2_value = get_chi2(bat_rel_freq)\n",
    "bat_chi2_value"
   ]
  },
  {
   "cell_type": "code",
   "execution_count": 116,
   "metadata": {},
   "outputs": [
    {
     "name": "stdout",
     "output_type": "stream",
     "text": [
      "Contingency table:\n",
      "            Cat 1  Cat 2  Cat 3  Cat 4  Total\n",
      "Partitions                                   \n",
      "Part 1         44     25     10     21    100\n",
      "Part 2         34     25     21     20    100\n",
      "Part 3         37     19     16     28    100\n",
      "Part 4         18     21     24     37    100\n",
      "Total         133     90     71    106    400 \n",
      "\n",
      "Relative frequency table:\n",
      "            Cat 1  Cat 2  Cat 3  Cat 4  Total\n",
      "Partitions                                   \n",
      "Part 1      0.110  0.062  0.025  0.052  0.250\n",
      "Part 2      0.085  0.062  0.052  0.050  0.250\n",
      "Part 3      0.092  0.048  0.040  0.070  0.250\n",
      "Part 4      0.045  0.052  0.060  0.092  0.250\n",
      "Total       0.333  0.225  0.177  0.265  1.000 \n",
      "\n",
      "Conditional frequency table:\n",
      "            Cat 1  Cat 2  Cat 3  Cat 4\n",
      "Partitions                            \n",
      "Part 1      0.331  0.278  0.141  0.198\n",
      "Part 2      0.256  0.278  0.296  0.189\n",
      "Part 3      0.278  0.211  0.225  0.264\n",
      "Part 4      0.135  0.233  0.338  0.349 \n",
      "\n",
      "Quetlet relative index table:\n",
      "            Cat 1  Cat 2  Cat 3  Cat 4\n",
      "Partitions                            \n",
      "Part 1      0.323  0.111 -0.437 -0.208\n",
      "Part 2      0.023  0.111  0.183 -0.245\n",
      "Part 3      0.113 -0.156 -0.099  0.057\n",
      "Part 4     -0.459 -0.067  0.352  0.396 \n",
      "\n",
      "Chi-squared matrix:\n",
      "            Cat 1  Cat 2  Cat 3  Cat 4\n",
      "Partitions                            \n",
      "Part 1      0.036  0.007 -0.011 -0.011\n",
      "Part 2      0.002  0.007  0.010 -0.012\n",
      "Part 3      0.010 -0.007 -0.004  0.004\n",
      "Part 4     -0.021 -0.004  0.021  0.037 \n",
      "\n",
      "Chi-square value:\n",
      "0.06360754796904566 \n",
      "\n",
      "Number of observation at 95% interval: N > 267\n",
      "Number of observation at 99% interval: N > 341\n"
     ]
    }
   ],
   "source": [
    "bat_cont_tab, bat_rel_freq, bat_cond_freq = generate_cont_freq(bat_pivots, df, 'battery_power')\n",
    "bat_quet = generate_quetlet(bat_rel_freq)\n",
    "bat_chi2_value = get_chi2(bat_rel_freq)\n",
    "bat_num_95, bat_num_99 = get_interval(bat_chi2_value)\n",
    "\n",
    "print('Contingency table:')\n",
    "print(bat_cont_tab, '\\n')\n",
    "print('Relative frequency table:')\n",
    "print(bat_rel_freq, '\\n')\n",
    "print('Conditional frequency table:')\n",
    "print(bat_cond_freq, '\\n')\n",
    "print('Quetlet relative index table:')\n",
    "print(bat_quet, '\\n')\n",
    "print('Chi-squared matrix:')\n",
    "print(bat_chi2_table, '\\n')\n",
    "print('Chi-square value:')\n",
    "print(bat_chi2_value, '\\n')\n",
    "print('Number of observation at 95% interval: N >', math.ceil(bat_num_95))\n",
    "print('Number of observation at 99% interval: N >', math.ceil(bat_num_99))"
   ]
  },
  {
   "cell_type": "code",
   "execution_count": 113,
   "metadata": {},
   "outputs": [
    {
     "name": "stdout",
     "output_type": "stream",
     "text": [
      "Contingency table:\n",
      "            Cat 1  Cat 2  Cat 3  Cat 4  Total\n",
      "Partitions                                   \n",
      "Part 1         69     31      0      0    100\n",
      "Part 2          8     87      5      0    100\n",
      "Part 3          0     32     58     10    100\n",
      "Part 4          0      1     31     68    100\n",
      "Total          77    151     94     78    400 \n",
      "\n",
      "Relative frequency table:\n",
      "            Cat 1  Cat 2  Cat 3  Cat 4  Total\n",
      "Partitions                                   \n",
      "Part 1      0.172  0.077  0.000  0.000  0.250\n",
      "Part 2      0.020  0.217  0.013  0.000  0.250\n",
      "Part 3      0.000  0.080  0.145  0.025  0.250\n",
      "Part 4      0.000  0.003  0.077  0.170  0.250\n",
      "Total       0.193  0.378  0.235  0.195  1.000 \n",
      "\n",
      "Conditional frequency table:\n",
      "            Cat 1  Cat 2  Cat 3  Cat 4\n",
      "Partitions                            \n",
      "Part 1      0.896  0.205  0.000  0.000\n",
      "Part 2      0.104  0.576  0.053  0.000\n",
      "Part 3      0.000  0.212  0.617  0.128\n",
      "Part 4      0.000  0.007  0.330  0.872 \n",
      "\n",
      "Quetlet relative index table:\n",
      "            Cat 1  Cat 2  Cat 3  Cat 4\n",
      "Partitions                            \n",
      "Part 1      2.584 -0.179 -1.000 -1.000\n",
      "Part 2     -0.584  1.305 -0.787 -1.000\n",
      "Part 3     -1.000 -0.152  1.468 -0.487\n",
      "Part 4     -1.000 -0.974  0.319  2.487 \n",
      "\n",
      "Chi-square value:\n",
      "1.3278118166648532 \n",
      "\n",
      "Number of observation at 95% interval: N > 13\n",
      "Number of observation at 99% interval: N > 17\n"
     ]
    }
   ],
   "source": [
    "ram_cont_tab, ram_rel_freq, ram_cond_freq = generate_cont_freq(ram_pivots, df, 'ram')\n",
    "ram_quet = generate_quetlet(ram_rel_freq)\n",
    "ram_chi2_value = get_chi2(ram_rel_freq)\n",
    "ram_num_95, ram_num_99 = get_interval(ram_chi2_value)\n",
    "\n",
    "print('Contingency table:')\n",
    "print(ram_cont_tab, '\\n')\n",
    "print('Relative frequency table:')\n",
    "print(ram_rel_freq, '\\n')\n",
    "print('Conditional frequency table:')\n",
    "print(ram_cond_freq, '\\n')\n",
    "print('Quetlet relative index table:')\n",
    "print(ram_quet, '\\n')\n",
    "print('Chi-square value:')\n",
    "print(ram_chi2_value, '\\n')\n",
    "print('Number of observation at 95% interval: N >', math.ceil(ram_num_95))\n",
    "print('Number of observation at 99% interval: N >', math.ceil(ram_num_99))"
   ]
  },
  {
   "cell_type": "code",
   "execution_count": null,
   "metadata": {},
   "outputs": [],
   "source": []
  }
 ],
 "metadata": {
  "kernelspec": {
   "display_name": "Python 3",
   "language": "python",
   "name": "python3"
  },
  "language_info": {
   "codemirror_mode": {
    "name": "ipython",
    "version": 3
   },
   "file_extension": ".py",
   "mimetype": "text/x-python",
   "name": "python",
   "nbconvert_exporter": "python",
   "pygments_lexer": "ipython3",
   "version": "3.6.5"
  }
 },
 "nbformat": 4,
 "nbformat_minor": 2
}
