{
 "cells": [
  {
   "cell_type": "code",
   "execution_count": 2,
   "metadata": {},
   "outputs": [],
   "source": [
    "import numpy as np\n",
    "from sklearn import datasets\n",
    "from matplotlib import pyplot as plt\n",
    "from sklearn.cluster import MiniBatchKMeans\n",
    "from sklearn.metrics.cluster import contingency_matrix\n"
   ]
  },
  {
   "cell_type": "code",
   "execution_count": 14,
   "metadata": {},
   "outputs": [],
   "source": [
    "iris = datasets.load_iris()\n",
    "data = iris.data\n",
    "targets = iris.target\n",
    "N, V = data.shape"
   ]
  },
  {
   "cell_type": "markdown",
   "metadata": {},
   "source": [
    "Choose random sample and plot hist"
   ]
  },
  {
   "cell_type": "code",
   "execution_count": 10,
   "metadata": {},
   "outputs": [
    {
     "data": {
      "image/png": "[encoded data removed]",
      "text/plain": [
       "<Figure size 432x288 with 1 Axes>"
      ]
     },
     "metadata": {},
     "output_type": "display_data"
    }
   ],
   "source": [
    "x = data[:,0]\n",
    "plt.hist(x, bins=20)\n",
    "plt.show()"
   ]
  },
  {
   "cell_type": "code",
   "execution_count": 12,
   "metadata": {},
   "outputs": [
    {
     "data": {
      "text/plain": [
       "(5.843333333333334, 0.8253012917851409)"
      ]
     },
     "execution_count": 12,
     "metadata": {},
     "output_type": "execute_result"
    }
   ],
   "source": [
    "m = np.mean(x)\n",
    "std = np.std(x)\n",
    "m, sigma"
   ]
  },
  {
   "cell_type": "markdown",
   "metadata": {},
   "source": [
    "Plausible boundaries"
   ]
  },
  {
   "cell_type": "code",
   "execution_count": 16,
   "metadata": {},
   "outputs": [
    {
     "data": {
      "text/plain": [
       "(5.711257619469684, 5.975409047196983)"
      ]
     },
     "execution_count": 16,
     "metadata": {},
     "output_type": "execute_result"
    }
   ],
   "source": [
    "a = m\n",
    "sigma = std / (np.sqrt(N))\n",
    "\n",
    "Lb = a - 1.96*sigma\n",
    "Rb = a + 1.96*sigma\n",
    "\n",
    "Lb, Rb"
   ]
  },
  {
   "cell_type": "markdown",
   "metadata": {},
   "source": [
    "Bootstrap"
   ]
  },
  {
   "cell_type": "code",
   "execution_count": 25,
   "metadata": {},
   "outputs": [
    {
     "data": {
      "text/plain": [
       "(150, 5000)"
      ]
     },
     "execution_count": 25,
     "metadata": {},
     "output_type": "execute_result"
    }
   ],
   "source": [
    "M = 150\n",
    "K = 5000\n",
    "r = np.random.randint(0, 149, (M,K))\n",
    "r.shape"
   ]
  },
  {
   "cell_type": "code",
   "execution_count": 27,
   "metadata": {},
   "outputs": [
    {
     "data": {
      "text/plain": [
       "(array([5.89733333, 5.868     , 5.84133333, ..., 5.87333333, 5.85933333,\n",
       "        5.79533333]), 5000)"
      ]
     },
     "execution_count": 27,
     "metadata": {},
     "output_type": "execute_result"
    }
   ],
   "source": [
    "xr = x[r]\n",
    "mr = np.mean(xr, axis=0)\n",
    "mr, len(mr)"
   ]
  },
  {
   "cell_type": "code",
   "execution_count": 32,
   "metadata": {},
   "outputs": [
    {
     "data": {
      "image/png": "[encoded data removed]",
      "text/plain": [
       "<Figure size 432x288 with 1 Axes>"
      ]
     },
     "metadata": {},
     "output_type": "display_data"
    }
   ],
   "source": [
    "plt.hist(mr, bins=20)\n",
    "plt.show()"
   ]
  },
  {
   "cell_type": "markdown",
   "metadata": {},
   "source": [
    "pivotal"
   ]
  },
  {
   "cell_type": "code",
   "execution_count": 34,
   "metadata": {},
   "outputs": [
    {
     "data": {
      "text/plain": [
       "(5.841800533333333, 0.0660238599274199, 5.71239376787559, 5.971207298791076)"
      ]
     },
     "execution_count": 34,
     "metadata": {},
     "output_type": "execute_result"
    }
   ],
   "source": [
    "mmr = np.mean(mr)\n",
    "smr  = np.std(mr) # не считаем сигму как раньше потому что тут и так нормальное (вроде) распределение\n",
    "\n",
    "lpb = mmr - 1.96*smr\n",
    "rpb = mmr + 1.96*smr\n",
    "\n",
    "mmr, smr, lpb, rpb"
   ]
  },
  {
   "cell_type": "markdown",
   "metadata": {},
   "source": [
    "non pivotal"
   ]
  },
  {
   "cell_type": "code",
   "execution_count": 35,
   "metadata": {},
   "outputs": [
    {
     "data": {
      "text/plain": [
       "(5.712666666666668, 5.97666666666667)"
      ]
     },
     "execution_count": 35,
     "metadata": {},
     "output_type": "execute_result"
    }
   ],
   "source": [
    "xr_ = np.sort(mr)\n",
    "lbn = xr_[125]\n",
    "rbn = xr_[4875]\n",
    "\n",
    "lbn, rbn"
   ]
  },
  {
   "cell_type": "markdown",
   "metadata": {},
   "source": [
    "clustering"
   ]
  },
  {
   "cell_type": "code",
   "execution_count": 39,
   "metadata": {},
   "outputs": [
    {
     "name": "stdout",
     "output_type": "stream",
     "text": [
      "delta0 [-14.32972048  11.91879502 -61.05001774 -79.64404894] #el: 50\n",
      "delta1 [17.16178858  0.91850956 51.71773951 73.48335758] #el: 39\n",
      "delta2 [  0.77338146 -10.35674794  16.97555813  18.30084429] #el: 61\n",
      "inertia 7.1292266008636185 \n",
      "\n",
      "delta0 [-14.32972048  11.91879502 -61.05001774 -79.64404894] #el: 50\n",
      "delta1 [ 0.96976612 -9.98099778 16.84471298 17.61702438] #el: 61\n",
      "delta2 [16.85462284  0.33079778 51.92239474 74.55292205] #el: 39\n",
      "inertia 7.2142704280529575 \n",
      "\n",
      "delta0 [-14.32972048  11.91879502 -61.05001774 -79.64404894] #el: 50\n",
      "delta1 [  1.20014042 -10.3319732   14.2999427   10.53948832] #el: 52\n",
      "delta2 [13.62664005 -1.22244052 48.10216389 71.54477197] #el: 48\n",
      "inertia 8.546289575814269 \n",
      "\n",
      "delta0 [-14.32972048  11.91879502 -61.05001774 -79.64404894] #el: 50\n",
      "delta1 [17.09925841  0.93320236 51.05090458 72.27474972] #el: 40\n",
      "delta2 [  0.54192812 -10.55446409  16.8410784   18.1868743 ] #el: 60\n",
      "inertia 7.065070620406247 \n",
      "\n",
      "delta0 [-14.32972048  11.91879502 -61.05001774 -79.64404894] #el: 50\n",
      "delta1 [18.3349552   2.37297276 53.05803059 75.44003141] #el: 34\n",
      "delta2 [  1.41056889 -10.25183068  18.91708859  21.47335423] #el: 66\n",
      "inertia 8.117191635587757 \n",
      "\n"
     ]
    },
    {
     "name": "stderr",
     "output_type": "stream",
     "text": [
      "/Users/user/anaconda3/lib/python3.6/site-packages/ipykernel_launcher.py:17: RuntimeWarning: Explicit initial center position passed: performing only one init in MiniBatchKMeans instead of n_init=3\n"
     ]
    }
   ],
   "source": [
    "me = np.mean(data, axis=0) # mean\n",
    "ra = np.ptp(data, axis=0) # range\n",
    "Y = np.divide(np.subtract(data, me), ra)\n",
    "Y.shape\n",
    "\n",
    "batch_size = 10\n",
    "centers = np.array([Y[1, :], Y[52, :], Y[111, :]])\n",
    "n_clusters = len(centers)\n",
    "n_clusters\n",
    "\n",
    "clusters = []\n",
    "mcs = []\n",
    "ds = []\n",
    "\n",
    "for i in range(5):\n",
    "    mbk = MiniBatchKMeans(n_clusters=n_clusters, batch_size=batch_size, init=centers)\n",
    "    mbk.fit(Y) # compute K-mean\n",
    "    ms = mbk.labels_\n",
    "    \n",
    "    for j in range(n_clusters):\n",
    "        cluster = data[np.where(ms==j)]\n",
    "        mc = np.mean(cluster, axis=0)\n",
    "        d = 100 * (np.divide(np.subtract(mc, me), me))\n",
    "        clusters.append(cluster)\n",
    "        mcs.append(mc)\n",
    "        ds.append(d)\n",
    "        print(\"delta{}\".format(j), d, \"#el:\", cluster.shape[0])\n",
    "\n",
    "    print(\"inertia\", mbk.inertia_, '\\n')"
   ]
  },
  {
   "cell_type": "code",
   "execution_count": 40,
   "metadata": {},
   "outputs": [
    {
     "ename": "NameError",
     "evalue": "name 'idx_1' is not defined",
     "output_type": "error",
     "traceback": [
      "\u001b[0;31m---------------------------------------------------------------------------\u001b[0m",
      "\u001b[0;31mNameError\u001b[0m                                 Traceback (most recent call last)",
      "\u001b[0;32m<ipython-input-40-3826ccca376f>\u001b[0m in \u001b[0;36m<module>\u001b[0;34m()\u001b[0m\n\u001b[1;32m      3\u001b[0m \u001b[0;32mfor\u001b[0m \u001b[0mk\u001b[0m \u001b[0;32min\u001b[0m \u001b[0mrange\u001b[0m\u001b[0;34m(\u001b[0m\u001b[0;36m5000\u001b[0m\u001b[0;34m)\u001b[0m\u001b[0;34m:\u001b[0m\u001b[0;34m\u001b[0m\u001b[0m\n\u001b[1;32m      4\u001b[0m     \u001b[0my\u001b[0m \u001b[0;34m=\u001b[0m \u001b[0mr\u001b[0m\u001b[0;34m[\u001b[0m\u001b[0;34m:\u001b[0m\u001b[0;34m,\u001b[0m\u001b[0mk\u001b[0m\u001b[0;34m]\u001b[0m\u001b[0;34m\u001b[0m\u001b[0m\n\u001b[0;32m----> 5\u001b[0;31m     \u001b[0mp2\u001b[0m \u001b[0;34m=\u001b[0m \u001b[0mnp\u001b[0m\u001b[0;34m.\u001b[0m\u001b[0misin\u001b[0m\u001b[0;34m(\u001b[0m\u001b[0my\u001b[0m\u001b[0;34m,\u001b[0m \u001b[0midx_1\u001b[0m\u001b[0;34m)\u001b[0m\u001b[0;34m\u001b[0m\u001b[0m\n\u001b[0m\u001b[1;32m      6\u001b[0m     \u001b[0mp2\u001b[0m \u001b[0;34m=\u001b[0m \u001b[0mnp\u001b[0m\u001b[0;34m.\u001b[0m\u001b[0mwhere\u001b[0m\u001b[0;34m(\u001b[0m\u001b[0mp2\u001b[0m\u001b[0;34m==\u001b[0m\u001b[0;32mTrue\u001b[0m\u001b[0;34m)\u001b[0m\u001b[0;34m[\u001b[0m\u001b[0;36m0\u001b[0m\u001b[0;34m]\u001b[0m\u001b[0;34m\u001b[0m\u001b[0m\n\u001b[1;32m      7\u001b[0m     \u001b[0my2\u001b[0m \u001b[0;34m=\u001b[0m \u001b[0mxr\u001b[0m\u001b[0;34m[\u001b[0m\u001b[0mnp\u001b[0m\u001b[0;34m.\u001b[0m\u001b[0mwhere\u001b[0m\u001b[0;34m(\u001b[0m\u001b[0mp2\u001b[0m\u001b[0;34m=\u001b[0m\u001b[0;32mTrue\u001b[0m\u001b[0;34m)\u001b[0m\u001b[0;34m]\u001b[0m\u001b[0;34m\u001b[0m\u001b[0m\n",
      "\u001b[0;31mNameError\u001b[0m: name 'idx_1' is not defined"
     ]
    }
   ],
   "source": [
    "y2, m2 = [], []\n",
    "\n",
    "for k in range(5000):\n",
    "    y = r[:,k]\n",
    "    p2 = np.isin(y, idx_1)\n",
    "    p2 = np.where(p2==True)[0]\n",
    "    y2 = xr[np.where(p2=True)]\n",
    "    m2_ = np.mean(y2)\n",
    "    if not np.isnan(m2_):\n",
    "        m2.append(m2_)"
   ]
  },
  {
   "cell_type": "code",
   "execution_count": null,
   "metadata": {},
   "outputs": [],
   "source": []
  }
 ],
 "metadata": {
  "kernelspec": {
   "display_name": "Python 3",
   "language": "python",
   "name": "python3"
  },
  "language_info": {
   "codemirror_mode": {
    "name": "ipython",
    "version": 3
   },
   "file_extension": ".py",
   "mimetype": "text/x-python",
   "name": "python",
   "nbconvert_exporter": "python",
   "pygments_lexer": "ipython3",
   "version": "3.6.5"
  }
 },
 "nbformat": 4,
 "nbformat_minor": 2
}
