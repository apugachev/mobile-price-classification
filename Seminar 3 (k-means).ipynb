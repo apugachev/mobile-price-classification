{
 "cells": [
  {
   "cell_type": "code",
   "execution_count": 4,
   "metadata": {},
   "outputs": [
    {
     "name": "stdout",
     "output_type": "stream",
     "text": [
      "delta0 [-14.32972048  11.91879502 -61.05001774 -79.64404894] #el: 50\n",
      "delta1 [17.09925841  0.93320236 51.05090458 72.27474972] #el: 40\n",
      "delta2 [  0.54192812 -10.55446409  16.8410784   18.1868743 ] #el: 60\n",
      "inertia 7.379758553362486 \n",
      "\n",
      "delta0 [-14.32972048  11.91879502 -61.05001774 -79.64404894] #el: 50\n",
      "delta1 [ -1.78509315 -13.26848435  11.67686171   7.02949076] #el: 41\n",
      "delta2 [13.38431938 -0.88020157 43.62287384 62.61005637] #el: 59\n",
      "inertia 7.435822991923679 \n",
      "\n",
      "delta0 [-14.32972048  11.91879502 -61.05001774 -79.64404894] #el: 50\n",
      "delta1 [ -0.0912721 -11.5913556  14.0297978  11.6240267] #el: 50\n",
      "delta2 [14.42099258 -0.32743942 47.02021994 68.02002225] #el: 50\n",
      "inertia 7.210461188359122 \n",
      "\n",
      "delta0 [-14.32972048  11.91879502 -61.05001774 -79.64404894] #el: 50\n",
      "delta1 [17.22760981  1.11641251 49.43242284 68.04385826] #el: 42\n",
      "delta2 [ -0.12195842 -11.08325994  16.83343323  19.38552415] #el: 58\n",
      "inertia 7.976987364839281 \n",
      "\n",
      "delta0 [-14.32972048  11.91879502 -61.05001774 -79.64404894] #el: 50\n",
      "delta1 [  0.0427838  -11.52313905  13.29372118   9.32285873] #el: 48\n",
      "delta2 [13.73908465 -0.82363609 46.43081289 67.97510054] #el: 52\n",
      "inertia 7.681268936000933 \n",
      "\n"
     ]
    }
   ],
   "source": [
    "import numpy as np\n",
    "from sklearn import datasets\n",
    "from sklearn.cluster import MiniBatchKMeans\n",
    "import warnings\n",
    "warnings.filterwarnings(\"ignore\")\n",
    "\n",
    "iris = datasets.load_iris()\n",
    "X = iris.data\n",
    "y = iris.target\n",
    "\n",
    "me = np.mean(X, axis=0) # mean\n",
    "ra = np.ptp(X, axis=0) # range\n",
    "Y = np.divide(np.subtract(X, me), ra)\n",
    "Y.shape\n",
    "\n",
    "batch_size = 10\n",
    "centers = np.array([Y[1, :], Y[52, :], Y[111, :]])\n",
    "n_clusters = len(centers)\n",
    "n_clusters\n",
    "\n",
    "clusters = []\n",
    "mcs = []\n",
    "ds = []\n",
    "\n",
    "for i in range(5):\n",
    "    mbk = MiniBatchKMeans(n_clusters=n_clusters, batch_size=batch_size, init=centers)\n",
    "    mbk.fit(Y) # compute K-mean\n",
    "    ms = mbk.labels_\n",
    "    \n",
    "    for j in range(n_clusters):\n",
    "        cluster = X[np.where(ms==j)]\n",
    "        mc = np.mean(cluster, axis=0)\n",
    "        d = 100 * (np.divide(np.subtract(mc, me), me))\n",
    "        clusters.append(cluster)\n",
    "        mcs.append(mc)\n",
    "        ds.append(d)\n",
    "        print(\"delta{}\".format(j), d, \"#el:\", cluster.shape[0])\n",
    "\n",
    "    print(\"inertia\", mbk.inertia_, '\\n')"
   ]
  },
  {
   "cell_type": "code",
   "execution_count": null,
   "metadata": {},
   "outputs": [],
   "source": []
  }
 ],
 "metadata": {
  "kernelspec": {
   "display_name": "Python 3",
   "language": "python",
   "name": "python3"
  },
  "language_info": {
   "codemirror_mode": {
    "name": "ipython",
    "version": 3
   },
   "file_extension": ".py",
   "mimetype": "text/x-python",
   "name": "python",
   "nbconvert_exporter": "python",
   "pygments_lexer": "ipython3",
   "version": "3.6.5"
  }
 },
 "nbformat": 4,
 "nbformat_minor": 2
}
