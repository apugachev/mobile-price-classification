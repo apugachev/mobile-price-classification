{
 "cells": [
  {
   "cell_type": "code",
   "execution_count": null,
   "metadata": {},
   "outputs": [],
   "source": [
    "import numpy as np\n",
    "from sklearn import datasets\n",
    "from sklearn.cluster import MiniBatchKMeans\n",
    "import warnings\n",
    "warnings.filterwarnings(\"ignore\")\n",
    "\n",
    "iris = datasets.load_iris()\n",
    "X = iris.data\n",
    "y = iris.target\n",
    "\n",
    "me = np.mean(X, axis=0) # mean\n",
    "ra = np.ptp(X, axis=0) # range\n",
    "Y = np.divide(np.subtract(X, me), ra)\n",
    "Y.shape\n",
    "\n",
    "batch_size = 10\n",
    "centers = np.array([Y[1, :], Y[52, :], Y[111, :]])\n",
    "n_clusters = len(centers)\n",
    "n_clusters\n",
    "\n",
    "clusters = []\n",
    "mcs = []\n",
    "ds = []\n",
    "\n",
    "for i in range(5):\n",
    "    mbk = MiniBatchKMeans(n_clusters=n_clusters, batch_size=batch_size, init=centers)\n",
    "    mbk.fit(Y) # compute K-mean\n",
    "    ms = mbk.labels_\n",
    "    \n",
    "    for j in range(n_clusters):\n",
    "        cluster = X[np.where(ms==j)]\n",
    "        mc = np.mean(cluster, axis=0)\n",
    "        d = 100 * (np.divide(np.subtract(mc, me), me))\n",
    "        clusters.append(cluster)\n",
    "        mcs.append(mc)\n",
    "        ds.append(d)\n",
    "        print(\"delta{}\".format(j), d, \"#el:\", cluster.shape[0])\n",
    "\n",
    "    print(\"inertia\", mbk.inertia_, '\\n')"
   ]
  }
 ],
 "metadata": {
  "kernelspec": {
   "display_name": "Python 3",
   "language": "python",
   "name": "python3"
  },
  "language_info": {
   "codemirror_mode": {
    "name": "ipython",
    "version": 3
   },
   "file_extension": ".py",
   "mimetype": "text/x-python",
   "name": "python",
   "nbconvert_exporter": "python",
   "pygments_lexer": "ipython3",
   "version": "3.6.5"
  }
 },
 "nbformat": 4,
 "nbformat_minor": 2
}
